{
 "cells": [
  {
   "attachments": {},
   "cell_type": "markdown",
   "metadata": {},
   "source": [
    "# Milestone 1 (Phase 1) (Modeling)"
   ]
  },
  {
   "attachments": {},
   "cell_type": "markdown",
   "metadata": {},
   "source": [
    "```sql\n",
    "SELECT limit_balance, CAST(sex AS INTEGER) AS sex,\n",
    "       CAST(education_level AS INTEGER) AS education_level,\n",
    "       CAST(marital_status AS INTEGER) AS marital_status,\n",
    "       age, pay_0, pay_2, pay_3, pay_4,\n",
    "       CAST(pay_5 AS DECIMAL) AS pay_5,\n",
    "       CAST(pay_6 AS DECIMAL) AS pay_6,\n",
    "       bill_amt_1, bill_amt_2, bill_amt_3, bill_amt_4, bill_amt_5,\n",
    "       bill_amt_6,pay_amt_1, pay_amt_2, pay_amt_3, pay_amt_4,\n",
    "       pay_amt_5, pay_amt_6,\n",
    "       CAST(default_payment_next_month AS INTEGER) as default_payment_next_month\n",
    "FROM `bigquery-public-data.ml_datasets.credit_card_default`\n",
    "LIMIT 5985\n",
    "```"
   ]
  },
  {
   "attachments": {},
   "cell_type": "markdown",
   "metadata": {},
   "source": [
    "## Introduction\n",
    "### Identity\n",
    "```txt\n",
    "Name : Andre Lie\n",
    "Class : FTDS (Offline)\n",
    "Batch : 03"
   ]
  },
  {
   "attachments": {},
   "cell_type": "markdown",
   "metadata": {},
   "source": [
    "### Objective Statement\n",
    "create Classification model for predict default_payment_next_month and using the dataset you have saved."
   ]
  },
  {
   "attachments": {},
   "cell_type": "markdown",
   "metadata": {},
   "source": [
    "### Problem Statement\n",
    "what is the best model for predict this dataset ?"
   ]
  },
  {
   "attachments": {},
   "cell_type": "markdown",
   "metadata": {},
   "source": [
    "### Conceptual Problem\n",
    "\n",
    "A. What's the meaning of criterion on Decision Tree ? explain the criterion you using on this case !\n",
    "   * The methode to measure the quality of a split. \n",
    "   * Gini impurity is a measure of how often a randomly chosen element from the set would be incorrectly labeled if it was randomly labeled according to the distribution of labels in the subset.\n",
    "  \n",
    "Reff :\n",
    "   1. https://towardsdatascience.com/scikit-learn-decision-trees-explained-803f3812290d#:~:text=criterion%20%3A%20This%20parameter%20determines%20how,is%20set%20to%20%E2%80%9Cbest%E2%80%9D.\n",
    "   2. https://en.wikipedia.org/wiki/Decision_tree_learning\n",
    "\n",
    "B. Explain what's the meaning with pruning on tree-based model(reason, definition, type, etc) !\n",
    "   * Pruning is a data compression technique in machine learning and search algorithms that reduces the size of decision trees by removing sections of the tree that are non-critical and redundant to classify instances. Pruning reduces the complexity of the final classifier, and hence improves predictive accuracy by the reduction of overfitting.\n",
    "   \n",
    "Reff : https://en.wikipedia.org/wiki/Decision_tree_pruning\n",
    "   \n",
    "C. How to select optimal K on KNN ?\n",
    "   * The optimal K value usually found is the square root of N, where N is the total number of samples. Use an error plot or accuracy plot to find the most favorable K value.\n",
    "\n",
    "Reff : https://towardsdatascience.com/how-to-find-the-optimal-value-of-k-in-knn-35d936e554eb#:~:text=The%20optimal%20K%20value%20usually,be%20aware%20of%20the%20outliers.\n",
    "   \n",
    "D. Explain what's the meaning of Cross Validation !\n",
    "   * Cross-validation is a technique for evaluating ML models by training several ML models on subsets of the available input data and evaluating them on the complementary subset of the data.\n",
    "\n",
    "Reff : https://docs.aws.amazon.com/machine-learning/latest/dg/cross-validation.html#:~:text=Cross%2Dvalidation%20is%20a%20technique,failing%20to%20generalize%20a%20pattern.\n",
    "   \n",
    "E. What's metrics : Accuracy, Precision, Recall, F1 Score, and when is the right time to using them?\n",
    "   * Accuracy represents the number of correctly classified data instances over the total number of data instances. Accuracy may not be a good measure if the dataset is not balanced (both negative and positive classes have different number of data instances).\n",
    "   * precision is total value of true positive from all data show positive (true positive and false positive). we can say the precision is represetative of how many false positive prediction we got. more low precision, more many false prediction we got. precision be a good measure if the dataset is not balanced and we want to focus on false positive prediction.\n",
    "   * recall is total value of true positive from data true positive + false negative. we can say the recall is represetative of how many false negative prediction we got. more low recall, more many false negative we got. recall be a good measure if the dataset is not balanced and we want to focus on false negative prediction.\n",
    "   * F1 score is the harmonic mean of precision and recall and is a better measure than accuracy. F1 score be a good measure when the dataset is balanced or not balanced and when precision and recall doesn't have any difference significantly.\n",
    "\n",
    "Reff : https://medium.com/analytics-vidhya/confusion-matrix-accuracy-precision-recall-f1-score-ade299cf63cd"
   ]
  },
  {
   "attachments": {},
   "cell_type": "markdown",
   "metadata": {},
   "source": [
    "## Import Library"
   ]
  },
  {
   "cell_type": "code",
   "execution_count": 63,
   "metadata": {},
   "outputs": [],
   "source": [
    "import pandas as pd\n",
    "import numpy as np\n",
    "import matplotlib.pyplot as plt\n",
    "import sklearn as skl\n",
    "import seaborn as sns\n",
    "from statsmodels.stats.outliers_influence import variance_inflation_factor\n",
    "from sklearn.model_selection import train_test_split\n",
    "from feature_engine.outliers import Winsorizer\n",
    "from sklearn.preprocessing import MinMaxScaler\n",
    "from sklearn.linear_model import LogisticRegression\n",
    "from sklearn.svm import SVC\n",
    "from sklearn.neighbors import KNeighborsClassifier\n",
    "from sklearn.naive_bayes import GaussianNB\n",
    "from sklearn.tree import DecisionTreeClassifier\n",
    "from sklearn.ensemble import RandomForestClassifier, AdaBoostClassifier\n",
    "from sklearn.model_selection import cross_val_score, StratifiedKFold, RandomizedSearchCV\n",
    "from sklearn.metrics import classification_report, confusion_matrix, ConfusionMatrixDisplay\n",
    "import joblib\n",
    "import warnings\n",
    "warnings.filterwarnings('ignore')"
   ]
  },
  {
   "attachments": {},
   "cell_type": "markdown",
   "metadata": {},
   "source": [
    "## Loading Data"
   ]
  },
  {
   "cell_type": "code",
   "execution_count": 64,
   "metadata": {},
   "outputs": [],
   "source": [
    "pd.set_option('display.max_columns', None)"
   ]
  },
  {
   "cell_type": "code",
   "execution_count": 65,
   "metadata": {},
   "outputs": [
    {
     "data": {
      "text/html": [
       "<div>\n",
       "<style scoped>\n",
       "    .dataframe tbody tr th:only-of-type {\n",
       "        vertical-align: middle;\n",
       "    }\n",
       "\n",
       "    .dataframe tbody tr th {\n",
       "        vertical-align: top;\n",
       "    }\n",
       "\n",
       "    .dataframe thead th {\n",
       "        text-align: right;\n",
       "    }\n",
       "</style>\n",
       "<table border=\"1\" class=\"dataframe\">\n",
       "  <thead>\n",
       "    <tr style=\"text-align: right;\">\n",
       "      <th></th>\n",
       "      <th>limit_balance</th>\n",
       "      <th>sex</th>\n",
       "      <th>education_level</th>\n",
       "      <th>marital_status</th>\n",
       "      <th>age</th>\n",
       "      <th>pay_0</th>\n",
       "      <th>pay_2</th>\n",
       "      <th>pay_3</th>\n",
       "      <th>pay_4</th>\n",
       "      <th>pay_5</th>\n",
       "      <th>pay_6</th>\n",
       "      <th>bill_amt_1</th>\n",
       "      <th>bill_amt_2</th>\n",
       "      <th>bill_amt_3</th>\n",
       "      <th>bill_amt_4</th>\n",
       "      <th>bill_amt_5</th>\n",
       "      <th>bill_amt_6</th>\n",
       "      <th>pay_amt_1</th>\n",
       "      <th>pay_amt_2</th>\n",
       "      <th>pay_amt_3</th>\n",
       "      <th>pay_amt_4</th>\n",
       "      <th>pay_amt_5</th>\n",
       "      <th>pay_amt_6</th>\n",
       "      <th>default_payment_next_month</th>\n",
       "    </tr>\n",
       "  </thead>\n",
       "  <tbody>\n",
       "    <tr>\n",
       "      <th>0</th>\n",
       "      <td>130000.0</td>\n",
       "      <td>1</td>\n",
       "      <td>1</td>\n",
       "      <td>1</td>\n",
       "      <td>45.0</td>\n",
       "      <td>0.0</td>\n",
       "      <td>0.0</td>\n",
       "      <td>0.0</td>\n",
       "      <td>0.0</td>\n",
       "      <td>0</td>\n",
       "      <td>0</td>\n",
       "      <td>58180.0</td>\n",
       "      <td>59134.0</td>\n",
       "      <td>61156.0</td>\n",
       "      <td>62377.0</td>\n",
       "      <td>63832.0</td>\n",
       "      <td>65099.0</td>\n",
       "      <td>2886.0</td>\n",
       "      <td>2908.0</td>\n",
       "      <td>2129.0</td>\n",
       "      <td>2354.0</td>\n",
       "      <td>2366.0</td>\n",
       "      <td>2291.0</td>\n",
       "      <td>0</td>\n",
       "    </tr>\n",
       "    <tr>\n",
       "      <th>1</th>\n",
       "      <td>230000.0</td>\n",
       "      <td>1</td>\n",
       "      <td>2</td>\n",
       "      <td>1</td>\n",
       "      <td>41.0</td>\n",
       "      <td>0.0</td>\n",
       "      <td>0.0</td>\n",
       "      <td>0.0</td>\n",
       "      <td>0.0</td>\n",
       "      <td>0</td>\n",
       "      <td>0</td>\n",
       "      <td>301038.0</td>\n",
       "      <td>305327.0</td>\n",
       "      <td>213058.0</td>\n",
       "      <td>216260.0</td>\n",
       "      <td>215968.0</td>\n",
       "      <td>174195.0</td>\n",
       "      <td>9405.0</td>\n",
       "      <td>7769.0</td>\n",
       "      <td>7757.0</td>\n",
       "      <td>8030.0</td>\n",
       "      <td>6549.0</td>\n",
       "      <td>5226.0</td>\n",
       "      <td>1</td>\n",
       "    </tr>\n",
       "    <tr>\n",
       "      <th>2</th>\n",
       "      <td>200000.0</td>\n",
       "      <td>1</td>\n",
       "      <td>1</td>\n",
       "      <td>1</td>\n",
       "      <td>58.0</td>\n",
       "      <td>0.0</td>\n",
       "      <td>0.0</td>\n",
       "      <td>0.0</td>\n",
       "      <td>0.0</td>\n",
       "      <td>0</td>\n",
       "      <td>0</td>\n",
       "      <td>192461.0</td>\n",
       "      <td>195970.0</td>\n",
       "      <td>122214.0</td>\n",
       "      <td>124647.0</td>\n",
       "      <td>126921.0</td>\n",
       "      <td>129167.0</td>\n",
       "      <td>7822.0</td>\n",
       "      <td>4417.0</td>\n",
       "      <td>4446.0</td>\n",
       "      <td>4597.0</td>\n",
       "      <td>4677.0</td>\n",
       "      <td>4698.0</td>\n",
       "      <td>0</td>\n",
       "    </tr>\n",
       "    <tr>\n",
       "      <th>3</th>\n",
       "      <td>500000.0</td>\n",
       "      <td>1</td>\n",
       "      <td>1</td>\n",
       "      <td>1</td>\n",
       "      <td>39.0</td>\n",
       "      <td>0.0</td>\n",
       "      <td>0.0</td>\n",
       "      <td>0.0</td>\n",
       "      <td>0.0</td>\n",
       "      <td>0</td>\n",
       "      <td>0</td>\n",
       "      <td>133598.0</td>\n",
       "      <td>167378.0</td>\n",
       "      <td>171106.0</td>\n",
       "      <td>174500.0</td>\n",
       "      <td>137406.0</td>\n",
       "      <td>204975.0</td>\n",
       "      <td>54209.0</td>\n",
       "      <td>4607.0</td>\n",
       "      <td>4603.0</td>\n",
       "      <td>5224.0</td>\n",
       "      <td>207440.0</td>\n",
       "      <td>7509.0</td>\n",
       "      <td>0</td>\n",
       "    </tr>\n",
       "    <tr>\n",
       "      <th>4</th>\n",
       "      <td>230000.0</td>\n",
       "      <td>1</td>\n",
       "      <td>1</td>\n",
       "      <td>1</td>\n",
       "      <td>48.0</td>\n",
       "      <td>0.0</td>\n",
       "      <td>0.0</td>\n",
       "      <td>0.0</td>\n",
       "      <td>0.0</td>\n",
       "      <td>0</td>\n",
       "      <td>0</td>\n",
       "      <td>160879.0</td>\n",
       "      <td>161797.0</td>\n",
       "      <td>165107.0</td>\n",
       "      <td>105508.0</td>\n",
       "      <td>108101.0</td>\n",
       "      <td>110094.0</td>\n",
       "      <td>7000.0</td>\n",
       "      <td>6607.0</td>\n",
       "      <td>3773.0</td>\n",
       "      <td>4290.0</td>\n",
       "      <td>4164.0</td>\n",
       "      <td>2000.0</td>\n",
       "      <td>0</td>\n",
       "    </tr>\n",
       "    <tr>\n",
       "      <th>...</th>\n",
       "      <td>...</td>\n",
       "      <td>...</td>\n",
       "      <td>...</td>\n",
       "      <td>...</td>\n",
       "      <td>...</td>\n",
       "      <td>...</td>\n",
       "      <td>...</td>\n",
       "      <td>...</td>\n",
       "      <td>...</td>\n",
       "      <td>...</td>\n",
       "      <td>...</td>\n",
       "      <td>...</td>\n",
       "      <td>...</td>\n",
       "      <td>...</td>\n",
       "      <td>...</td>\n",
       "      <td>...</td>\n",
       "      <td>...</td>\n",
       "      <td>...</td>\n",
       "      <td>...</td>\n",
       "      <td>...</td>\n",
       "      <td>...</td>\n",
       "      <td>...</td>\n",
       "      <td>...</td>\n",
       "      <td>...</td>\n",
       "    </tr>\n",
       "    <tr>\n",
       "      <th>2960</th>\n",
       "      <td>30000.0</td>\n",
       "      <td>2</td>\n",
       "      <td>3</td>\n",
       "      <td>2</td>\n",
       "      <td>50.0</td>\n",
       "      <td>-1.0</td>\n",
       "      <td>-1.0</td>\n",
       "      <td>2.0</td>\n",
       "      <td>-1.0</td>\n",
       "      <td>-1</td>\n",
       "      <td>-2</td>\n",
       "      <td>178.0</td>\n",
       "      <td>1860.0</td>\n",
       "      <td>940.0</td>\n",
       "      <td>1110.0</td>\n",
       "      <td>0.0</td>\n",
       "      <td>0.0</td>\n",
       "      <td>1860.0</td>\n",
       "      <td>0.0</td>\n",
       "      <td>1110.0</td>\n",
       "      <td>0.0</td>\n",
       "      <td>0.0</td>\n",
       "      <td>0.0</td>\n",
       "      <td>1</td>\n",
       "    </tr>\n",
       "    <tr>\n",
       "      <th>2961</th>\n",
       "      <td>20000.0</td>\n",
       "      <td>2</td>\n",
       "      <td>1</td>\n",
       "      <td>2</td>\n",
       "      <td>25.0</td>\n",
       "      <td>-1.0</td>\n",
       "      <td>-1.0</td>\n",
       "      <td>-1.0</td>\n",
       "      <td>-1.0</td>\n",
       "      <td>-1</td>\n",
       "      <td>-2</td>\n",
       "      <td>2650.0</td>\n",
       "      <td>0.0</td>\n",
       "      <td>855.0</td>\n",
       "      <td>640.0</td>\n",
       "      <td>0.0</td>\n",
       "      <td>0.0</td>\n",
       "      <td>0.0</td>\n",
       "      <td>855.0</td>\n",
       "      <td>640.0</td>\n",
       "      <td>0.0</td>\n",
       "      <td>0.0</td>\n",
       "      <td>2742.0</td>\n",
       "      <td>0</td>\n",
       "    </tr>\n",
       "    <tr>\n",
       "      <th>2962</th>\n",
       "      <td>280000.0</td>\n",
       "      <td>2</td>\n",
       "      <td>1</td>\n",
       "      <td>2</td>\n",
       "      <td>52.0</td>\n",
       "      <td>-1.0</td>\n",
       "      <td>-1.0</td>\n",
       "      <td>-1.0</td>\n",
       "      <td>-1.0</td>\n",
       "      <td>-2</td>\n",
       "      <td>-2</td>\n",
       "      <td>886.0</td>\n",
       "      <td>0.0</td>\n",
       "      <td>930.0</td>\n",
       "      <td>0.0</td>\n",
       "      <td>0.0</td>\n",
       "      <td>0.0</td>\n",
       "      <td>0.0</td>\n",
       "      <td>930.0</td>\n",
       "      <td>0.0</td>\n",
       "      <td>0.0</td>\n",
       "      <td>0.0</td>\n",
       "      <td>0.0</td>\n",
       "      <td>0</td>\n",
       "    </tr>\n",
       "    <tr>\n",
       "      <th>2963</th>\n",
       "      <td>360000.0</td>\n",
       "      <td>2</td>\n",
       "      <td>2</td>\n",
       "      <td>2</td>\n",
       "      <td>26.0</td>\n",
       "      <td>-1.0</td>\n",
       "      <td>-1.0</td>\n",
       "      <td>-1.0</td>\n",
       "      <td>-1.0</td>\n",
       "      <td>-2</td>\n",
       "      <td>-2</td>\n",
       "      <td>1968.0</td>\n",
       "      <td>459.0</td>\n",
       "      <td>2500.0</td>\n",
       "      <td>0.0</td>\n",
       "      <td>0.0</td>\n",
       "      <td>0.0</td>\n",
       "      <td>463.0</td>\n",
       "      <td>2500.0</td>\n",
       "      <td>0.0</td>\n",
       "      <td>0.0</td>\n",
       "      <td>0.0</td>\n",
       "      <td>0.0</td>\n",
       "      <td>0</td>\n",
       "    </tr>\n",
       "    <tr>\n",
       "      <th>2964</th>\n",
       "      <td>100000.0</td>\n",
       "      <td>2</td>\n",
       "      <td>1</td>\n",
       "      <td>2</td>\n",
       "      <td>30.0</td>\n",
       "      <td>-1.0</td>\n",
       "      <td>-1.0</td>\n",
       "      <td>-1.0</td>\n",
       "      <td>-1.0</td>\n",
       "      <td>-2</td>\n",
       "      <td>-2</td>\n",
       "      <td>430.0</td>\n",
       "      <td>35993.0</td>\n",
       "      <td>2772.0</td>\n",
       "      <td>0.0</td>\n",
       "      <td>0.0</td>\n",
       "      <td>0.0</td>\n",
       "      <td>35993.0</td>\n",
       "      <td>2772.0</td>\n",
       "      <td>0.0</td>\n",
       "      <td>0.0</td>\n",
       "      <td>0.0</td>\n",
       "      <td>0.0</td>\n",
       "      <td>0</td>\n",
       "    </tr>\n",
       "  </tbody>\n",
       "</table>\n",
       "<p>2965 rows × 24 columns</p>\n",
       "</div>"
      ],
      "text/plain": [
       "      limit_balance  sex  education_level  marital_status   age  pay_0  pay_2  \\\n",
       "0          130000.0    1                1               1  45.0    0.0    0.0   \n",
       "1          230000.0    1                2               1  41.0    0.0    0.0   \n",
       "2          200000.0    1                1               1  58.0    0.0    0.0   \n",
       "3          500000.0    1                1               1  39.0    0.0    0.0   \n",
       "4          230000.0    1                1               1  48.0    0.0    0.0   \n",
       "...             ...  ...              ...             ...   ...    ...    ...   \n",
       "2960        30000.0    2                3               2  50.0   -1.0   -1.0   \n",
       "2961        20000.0    2                1               2  25.0   -1.0   -1.0   \n",
       "2962       280000.0    2                1               2  52.0   -1.0   -1.0   \n",
       "2963       360000.0    2                2               2  26.0   -1.0   -1.0   \n",
       "2964       100000.0    2                1               2  30.0   -1.0   -1.0   \n",
       "\n",
       "      pay_3  pay_4  pay_5  pay_6  bill_amt_1  bill_amt_2  bill_amt_3  \\\n",
       "0       0.0    0.0      0      0     58180.0     59134.0     61156.0   \n",
       "1       0.0    0.0      0      0    301038.0    305327.0    213058.0   \n",
       "2       0.0    0.0      0      0    192461.0    195970.0    122214.0   \n",
       "3       0.0    0.0      0      0    133598.0    167378.0    171106.0   \n",
       "4       0.0    0.0      0      0    160879.0    161797.0    165107.0   \n",
       "...     ...    ...    ...    ...         ...         ...         ...   \n",
       "2960    2.0   -1.0     -1     -2       178.0      1860.0       940.0   \n",
       "2961   -1.0   -1.0     -1     -2      2650.0         0.0       855.0   \n",
       "2962   -1.0   -1.0     -2     -2       886.0         0.0       930.0   \n",
       "2963   -1.0   -1.0     -2     -2      1968.0       459.0      2500.0   \n",
       "2964   -1.0   -1.0     -2     -2       430.0     35993.0      2772.0   \n",
       "\n",
       "      bill_amt_4  bill_amt_5  bill_amt_6  pay_amt_1  pay_amt_2  pay_amt_3  \\\n",
       "0        62377.0     63832.0     65099.0     2886.0     2908.0     2129.0   \n",
       "1       216260.0    215968.0    174195.0     9405.0     7769.0     7757.0   \n",
       "2       124647.0    126921.0    129167.0     7822.0     4417.0     4446.0   \n",
       "3       174500.0    137406.0    204975.0    54209.0     4607.0     4603.0   \n",
       "4       105508.0    108101.0    110094.0     7000.0     6607.0     3773.0   \n",
       "...          ...         ...         ...        ...        ...        ...   \n",
       "2960      1110.0         0.0         0.0     1860.0        0.0     1110.0   \n",
       "2961       640.0         0.0         0.0        0.0      855.0      640.0   \n",
       "2962         0.0         0.0         0.0        0.0      930.0        0.0   \n",
       "2963         0.0         0.0         0.0      463.0     2500.0        0.0   \n",
       "2964         0.0         0.0         0.0    35993.0     2772.0        0.0   \n",
       "\n",
       "      pay_amt_4  pay_amt_5  pay_amt_6  default_payment_next_month  \n",
       "0        2354.0     2366.0     2291.0                           0  \n",
       "1        8030.0     6549.0     5226.0                           1  \n",
       "2        4597.0     4677.0     4698.0                           0  \n",
       "3        5224.0   207440.0     7509.0                           0  \n",
       "4        4290.0     4164.0     2000.0                           0  \n",
       "...         ...        ...        ...                         ...  \n",
       "2960        0.0        0.0        0.0                           1  \n",
       "2961        0.0        0.0     2742.0                           0  \n",
       "2962        0.0        0.0        0.0                           0  \n",
       "2963        0.0        0.0        0.0                           0  \n",
       "2964        0.0        0.0        0.0                           0  \n",
       "\n",
       "[2965 rows x 24 columns]"
      ]
     },
     "execution_count": 65,
     "metadata": {},
     "output_type": "execute_result"
    }
   ],
   "source": [
    "# read dataset from csv type file\n",
    "df = pd.read_csv('h8dsft_P1M1_AndreLie.csv')\n",
    "df"
   ]
  },
  {
   "cell_type": "code",
   "execution_count": 66,
   "metadata": {},
   "outputs": [
    {
     "data": {
      "text/html": [
       "<div>\n",
       "<style scoped>\n",
       "    .dataframe tbody tr th:only-of-type {\n",
       "        vertical-align: middle;\n",
       "    }\n",
       "\n",
       "    .dataframe tbody tr th {\n",
       "        vertical-align: top;\n",
       "    }\n",
       "\n",
       "    .dataframe thead th {\n",
       "        text-align: right;\n",
       "    }\n",
       "</style>\n",
       "<table border=\"1\" class=\"dataframe\">\n",
       "  <thead>\n",
       "    <tr style=\"text-align: right;\">\n",
       "      <th></th>\n",
       "      <th>limit_balance</th>\n",
       "      <th>sex</th>\n",
       "      <th>education_level</th>\n",
       "      <th>marital_status</th>\n",
       "      <th>age</th>\n",
       "      <th>pay_0</th>\n",
       "      <th>pay_2</th>\n",
       "      <th>pay_3</th>\n",
       "      <th>pay_4</th>\n",
       "      <th>pay_5</th>\n",
       "      <th>pay_6</th>\n",
       "      <th>bill_amt_1</th>\n",
       "      <th>bill_amt_2</th>\n",
       "      <th>bill_amt_3</th>\n",
       "      <th>bill_amt_4</th>\n",
       "      <th>bill_amt_5</th>\n",
       "      <th>bill_amt_6</th>\n",
       "      <th>pay_amt_1</th>\n",
       "      <th>pay_amt_2</th>\n",
       "      <th>pay_amt_3</th>\n",
       "      <th>pay_amt_4</th>\n",
       "      <th>pay_amt_5</th>\n",
       "      <th>pay_amt_6</th>\n",
       "      <th>default_payment_next_month</th>\n",
       "    </tr>\n",
       "  </thead>\n",
       "  <tbody>\n",
       "    <tr>\n",
       "      <th>0</th>\n",
       "      <td>130000.0</td>\n",
       "      <td>1</td>\n",
       "      <td>1</td>\n",
       "      <td>1</td>\n",
       "      <td>45.0</td>\n",
       "      <td>0.0</td>\n",
       "      <td>0.0</td>\n",
       "      <td>0.0</td>\n",
       "      <td>0.0</td>\n",
       "      <td>0</td>\n",
       "      <td>0</td>\n",
       "      <td>58180.0</td>\n",
       "      <td>59134.0</td>\n",
       "      <td>61156.0</td>\n",
       "      <td>62377.0</td>\n",
       "      <td>63832.0</td>\n",
       "      <td>65099.0</td>\n",
       "      <td>2886.0</td>\n",
       "      <td>2908.0</td>\n",
       "      <td>2129.0</td>\n",
       "      <td>2354.0</td>\n",
       "      <td>2366.0</td>\n",
       "      <td>2291.0</td>\n",
       "      <td>0</td>\n",
       "    </tr>\n",
       "    <tr>\n",
       "      <th>1</th>\n",
       "      <td>230000.0</td>\n",
       "      <td>1</td>\n",
       "      <td>2</td>\n",
       "      <td>1</td>\n",
       "      <td>41.0</td>\n",
       "      <td>0.0</td>\n",
       "      <td>0.0</td>\n",
       "      <td>0.0</td>\n",
       "      <td>0.0</td>\n",
       "      <td>0</td>\n",
       "      <td>0</td>\n",
       "      <td>301038.0</td>\n",
       "      <td>305327.0</td>\n",
       "      <td>213058.0</td>\n",
       "      <td>216260.0</td>\n",
       "      <td>215968.0</td>\n",
       "      <td>174195.0</td>\n",
       "      <td>9405.0</td>\n",
       "      <td>7769.0</td>\n",
       "      <td>7757.0</td>\n",
       "      <td>8030.0</td>\n",
       "      <td>6549.0</td>\n",
       "      <td>5226.0</td>\n",
       "      <td>1</td>\n",
       "    </tr>\n",
       "    <tr>\n",
       "      <th>2</th>\n",
       "      <td>200000.0</td>\n",
       "      <td>1</td>\n",
       "      <td>1</td>\n",
       "      <td>1</td>\n",
       "      <td>58.0</td>\n",
       "      <td>0.0</td>\n",
       "      <td>0.0</td>\n",
       "      <td>0.0</td>\n",
       "      <td>0.0</td>\n",
       "      <td>0</td>\n",
       "      <td>0</td>\n",
       "      <td>192461.0</td>\n",
       "      <td>195970.0</td>\n",
       "      <td>122214.0</td>\n",
       "      <td>124647.0</td>\n",
       "      <td>126921.0</td>\n",
       "      <td>129167.0</td>\n",
       "      <td>7822.0</td>\n",
       "      <td>4417.0</td>\n",
       "      <td>4446.0</td>\n",
       "      <td>4597.0</td>\n",
       "      <td>4677.0</td>\n",
       "      <td>4698.0</td>\n",
       "      <td>0</td>\n",
       "    </tr>\n",
       "    <tr>\n",
       "      <th>3</th>\n",
       "      <td>500000.0</td>\n",
       "      <td>1</td>\n",
       "      <td>1</td>\n",
       "      <td>1</td>\n",
       "      <td>39.0</td>\n",
       "      <td>0.0</td>\n",
       "      <td>0.0</td>\n",
       "      <td>0.0</td>\n",
       "      <td>0.0</td>\n",
       "      <td>0</td>\n",
       "      <td>0</td>\n",
       "      <td>133598.0</td>\n",
       "      <td>167378.0</td>\n",
       "      <td>171106.0</td>\n",
       "      <td>174500.0</td>\n",
       "      <td>137406.0</td>\n",
       "      <td>204975.0</td>\n",
       "      <td>54209.0</td>\n",
       "      <td>4607.0</td>\n",
       "      <td>4603.0</td>\n",
       "      <td>5224.0</td>\n",
       "      <td>207440.0</td>\n",
       "      <td>7509.0</td>\n",
       "      <td>0</td>\n",
       "    </tr>\n",
       "    <tr>\n",
       "      <th>4</th>\n",
       "      <td>230000.0</td>\n",
       "      <td>1</td>\n",
       "      <td>1</td>\n",
       "      <td>1</td>\n",
       "      <td>48.0</td>\n",
       "      <td>0.0</td>\n",
       "      <td>0.0</td>\n",
       "      <td>0.0</td>\n",
       "      <td>0.0</td>\n",
       "      <td>0</td>\n",
       "      <td>0</td>\n",
       "      <td>160879.0</td>\n",
       "      <td>161797.0</td>\n",
       "      <td>165107.0</td>\n",
       "      <td>105508.0</td>\n",
       "      <td>108101.0</td>\n",
       "      <td>110094.0</td>\n",
       "      <td>7000.0</td>\n",
       "      <td>6607.0</td>\n",
       "      <td>3773.0</td>\n",
       "      <td>4290.0</td>\n",
       "      <td>4164.0</td>\n",
       "      <td>2000.0</td>\n",
       "      <td>0</td>\n",
       "    </tr>\n",
       "    <tr>\n",
       "      <th>5</th>\n",
       "      <td>500000.0</td>\n",
       "      <td>1</td>\n",
       "      <td>2</td>\n",
       "      <td>1</td>\n",
       "      <td>41.0</td>\n",
       "      <td>0.0</td>\n",
       "      <td>0.0</td>\n",
       "      <td>0.0</td>\n",
       "      <td>0.0</td>\n",
       "      <td>0</td>\n",
       "      <td>0</td>\n",
       "      <td>155820.0</td>\n",
       "      <td>171565.0</td>\n",
       "      <td>184782.0</td>\n",
       "      <td>152365.0</td>\n",
       "      <td>139757.0</td>\n",
       "      <td>153348.0</td>\n",
       "      <td>20000.0</td>\n",
       "      <td>20241.0</td>\n",
       "      <td>20154.0</td>\n",
       "      <td>20019.0</td>\n",
       "      <td>20151.0</td>\n",
       "      <td>20037.0</td>\n",
       "      <td>0</td>\n",
       "    </tr>\n",
       "    <tr>\n",
       "      <th>6</th>\n",
       "      <td>50000.0</td>\n",
       "      <td>1</td>\n",
       "      <td>2</td>\n",
       "      <td>1</td>\n",
       "      <td>40.0</td>\n",
       "      <td>0.0</td>\n",
       "      <td>0.0</td>\n",
       "      <td>0.0</td>\n",
       "      <td>0.0</td>\n",
       "      <td>0</td>\n",
       "      <td>0</td>\n",
       "      <td>49073.0</td>\n",
       "      <td>49531.0</td>\n",
       "      <td>44002.0</td>\n",
       "      <td>44356.0</td>\n",
       "      <td>19344.0</td>\n",
       "      <td>19354.0</td>\n",
       "      <td>1691.0</td>\n",
       "      <td>1942.0</td>\n",
       "      <td>1296.0</td>\n",
       "      <td>674.0</td>\n",
       "      <td>693.0</td>\n",
       "      <td>1000.0</td>\n",
       "      <td>0</td>\n",
       "    </tr>\n",
       "    <tr>\n",
       "      <th>7</th>\n",
       "      <td>100000.0</td>\n",
       "      <td>1</td>\n",
       "      <td>5</td>\n",
       "      <td>1</td>\n",
       "      <td>45.0</td>\n",
       "      <td>0.0</td>\n",
       "      <td>0.0</td>\n",
       "      <td>0.0</td>\n",
       "      <td>0.0</td>\n",
       "      <td>0</td>\n",
       "      <td>0</td>\n",
       "      <td>94502.0</td>\n",
       "      <td>95697.0</td>\n",
       "      <td>98222.0</td>\n",
       "      <td>90500.0</td>\n",
       "      <td>82586.0</td>\n",
       "      <td>22620.0</td>\n",
       "      <td>5000.0</td>\n",
       "      <td>5000.0</td>\n",
       "      <td>3203.0</td>\n",
       "      <td>2103.0</td>\n",
       "      <td>50000.0</td>\n",
       "      <td>0.0</td>\n",
       "      <td>0</td>\n",
       "    </tr>\n",
       "    <tr>\n",
       "      <th>8</th>\n",
       "      <td>140000.0</td>\n",
       "      <td>1</td>\n",
       "      <td>2</td>\n",
       "      <td>1</td>\n",
       "      <td>29.0</td>\n",
       "      <td>0.0</td>\n",
       "      <td>0.0</td>\n",
       "      <td>0.0</td>\n",
       "      <td>0.0</td>\n",
       "      <td>0</td>\n",
       "      <td>0</td>\n",
       "      <td>130767.0</td>\n",
       "      <td>134946.0</td>\n",
       "      <td>130470.0</td>\n",
       "      <td>132038.0</td>\n",
       "      <td>131961.0</td>\n",
       "      <td>124256.0</td>\n",
       "      <td>6696.0</td>\n",
       "      <td>5000.0</td>\n",
       "      <td>4866.0</td>\n",
       "      <td>5300.0</td>\n",
       "      <td>5055.0</td>\n",
       "      <td>5000.0</td>\n",
       "      <td>0</td>\n",
       "    </tr>\n",
       "    <tr>\n",
       "      <th>9</th>\n",
       "      <td>50000.0</td>\n",
       "      <td>1</td>\n",
       "      <td>2</td>\n",
       "      <td>1</td>\n",
       "      <td>43.0</td>\n",
       "      <td>0.0</td>\n",
       "      <td>0.0</td>\n",
       "      <td>0.0</td>\n",
       "      <td>0.0</td>\n",
       "      <td>0</td>\n",
       "      <td>0</td>\n",
       "      <td>48919.0</td>\n",
       "      <td>48775.0</td>\n",
       "      <td>48731.0</td>\n",
       "      <td>48934.0</td>\n",
       "      <td>29116.0</td>\n",
       "      <td>28999.0</td>\n",
       "      <td>1800.0</td>\n",
       "      <td>2200.0</td>\n",
       "      <td>1400.0</td>\n",
       "      <td>582.0</td>\n",
       "      <td>580.0</td>\n",
       "      <td>30000.0</td>\n",
       "      <td>0</td>\n",
       "    </tr>\n",
       "  </tbody>\n",
       "</table>\n",
       "</div>"
      ],
      "text/plain": [
       "   limit_balance  sex  education_level  marital_status   age  pay_0  pay_2  \\\n",
       "0       130000.0    1                1               1  45.0    0.0    0.0   \n",
       "1       230000.0    1                2               1  41.0    0.0    0.0   \n",
       "2       200000.0    1                1               1  58.0    0.0    0.0   \n",
       "3       500000.0    1                1               1  39.0    0.0    0.0   \n",
       "4       230000.0    1                1               1  48.0    0.0    0.0   \n",
       "5       500000.0    1                2               1  41.0    0.0    0.0   \n",
       "6        50000.0    1                2               1  40.0    0.0    0.0   \n",
       "7       100000.0    1                5               1  45.0    0.0    0.0   \n",
       "8       140000.0    1                2               1  29.0    0.0    0.0   \n",
       "9        50000.0    1                2               1  43.0    0.0    0.0   \n",
       "\n",
       "   pay_3  pay_4  pay_5  pay_6  bill_amt_1  bill_amt_2  bill_amt_3  bill_amt_4  \\\n",
       "0    0.0    0.0      0      0     58180.0     59134.0     61156.0     62377.0   \n",
       "1    0.0    0.0      0      0    301038.0    305327.0    213058.0    216260.0   \n",
       "2    0.0    0.0      0      0    192461.0    195970.0    122214.0    124647.0   \n",
       "3    0.0    0.0      0      0    133598.0    167378.0    171106.0    174500.0   \n",
       "4    0.0    0.0      0      0    160879.0    161797.0    165107.0    105508.0   \n",
       "5    0.0    0.0      0      0    155820.0    171565.0    184782.0    152365.0   \n",
       "6    0.0    0.0      0      0     49073.0     49531.0     44002.0     44356.0   \n",
       "7    0.0    0.0      0      0     94502.0     95697.0     98222.0     90500.0   \n",
       "8    0.0    0.0      0      0    130767.0    134946.0    130470.0    132038.0   \n",
       "9    0.0    0.0      0      0     48919.0     48775.0     48731.0     48934.0   \n",
       "\n",
       "   bill_amt_5  bill_amt_6  pay_amt_1  pay_amt_2  pay_amt_3  pay_amt_4  \\\n",
       "0     63832.0     65099.0     2886.0     2908.0     2129.0     2354.0   \n",
       "1    215968.0    174195.0     9405.0     7769.0     7757.0     8030.0   \n",
       "2    126921.0    129167.0     7822.0     4417.0     4446.0     4597.0   \n",
       "3    137406.0    204975.0    54209.0     4607.0     4603.0     5224.0   \n",
       "4    108101.0    110094.0     7000.0     6607.0     3773.0     4290.0   \n",
       "5    139757.0    153348.0    20000.0    20241.0    20154.0    20019.0   \n",
       "6     19344.0     19354.0     1691.0     1942.0     1296.0      674.0   \n",
       "7     82586.0     22620.0     5000.0     5000.0     3203.0     2103.0   \n",
       "8    131961.0    124256.0     6696.0     5000.0     4866.0     5300.0   \n",
       "9     29116.0     28999.0     1800.0     2200.0     1400.0      582.0   \n",
       "\n",
       "   pay_amt_5  pay_amt_6  default_payment_next_month  \n",
       "0     2366.0     2291.0                           0  \n",
       "1     6549.0     5226.0                           1  \n",
       "2     4677.0     4698.0                           0  \n",
       "3   207440.0     7509.0                           0  \n",
       "4     4164.0     2000.0                           0  \n",
       "5    20151.0    20037.0                           0  \n",
       "6      693.0     1000.0                           0  \n",
       "7    50000.0        0.0                           0  \n",
       "8     5055.0     5000.0                           0  \n",
       "9      580.0    30000.0                           0  "
      ]
     },
     "execution_count": 66,
     "metadata": {},
     "output_type": "execute_result"
    }
   ],
   "source": [
    "# show 10 header datas\n",
    "df.head(10)"
   ]
  },
  {
   "cell_type": "code",
   "execution_count": 67,
   "metadata": {},
   "outputs": [
    {
     "data": {
      "text/html": [
       "<div>\n",
       "<style scoped>\n",
       "    .dataframe tbody tr th:only-of-type {\n",
       "        vertical-align: middle;\n",
       "    }\n",
       "\n",
       "    .dataframe tbody tr th {\n",
       "        vertical-align: top;\n",
       "    }\n",
       "\n",
       "    .dataframe thead th {\n",
       "        text-align: right;\n",
       "    }\n",
       "</style>\n",
       "<table border=\"1\" class=\"dataframe\">\n",
       "  <thead>\n",
       "    <tr style=\"text-align: right;\">\n",
       "      <th></th>\n",
       "      <th>limit_balance</th>\n",
       "      <th>sex</th>\n",
       "      <th>education_level</th>\n",
       "      <th>marital_status</th>\n",
       "      <th>age</th>\n",
       "      <th>pay_0</th>\n",
       "      <th>pay_2</th>\n",
       "      <th>pay_3</th>\n",
       "      <th>pay_4</th>\n",
       "      <th>pay_5</th>\n",
       "      <th>pay_6</th>\n",
       "      <th>bill_amt_1</th>\n",
       "      <th>bill_amt_2</th>\n",
       "      <th>bill_amt_3</th>\n",
       "      <th>bill_amt_4</th>\n",
       "      <th>bill_amt_5</th>\n",
       "      <th>bill_amt_6</th>\n",
       "      <th>pay_amt_1</th>\n",
       "      <th>pay_amt_2</th>\n",
       "      <th>pay_amt_3</th>\n",
       "      <th>pay_amt_4</th>\n",
       "      <th>pay_amt_5</th>\n",
       "      <th>pay_amt_6</th>\n",
       "      <th>default_payment_next_month</th>\n",
       "    </tr>\n",
       "  </thead>\n",
       "  <tbody>\n",
       "    <tr>\n",
       "      <th>2955</th>\n",
       "      <td>300000.0</td>\n",
       "      <td>2</td>\n",
       "      <td>2</td>\n",
       "      <td>1</td>\n",
       "      <td>28.0</td>\n",
       "      <td>-1.0</td>\n",
       "      <td>-1.0</td>\n",
       "      <td>-1.0</td>\n",
       "      <td>-1.0</td>\n",
       "      <td>-2</td>\n",
       "      <td>-2</td>\n",
       "      <td>16666.0</td>\n",
       "      <td>1000.0</td>\n",
       "      <td>16666.0</td>\n",
       "      <td>0.0</td>\n",
       "      <td>0.0</td>\n",
       "      <td>0.0</td>\n",
       "      <td>1000.0</td>\n",
       "      <td>16666.0</td>\n",
       "      <td>0.0</td>\n",
       "      <td>0.0</td>\n",
       "      <td>0.0</td>\n",
       "      <td>0.0</td>\n",
       "      <td>0</td>\n",
       "    </tr>\n",
       "    <tr>\n",
       "      <th>2956</th>\n",
       "      <td>200000.0</td>\n",
       "      <td>2</td>\n",
       "      <td>1</td>\n",
       "      <td>1</td>\n",
       "      <td>49.0</td>\n",
       "      <td>-1.0</td>\n",
       "      <td>-1.0</td>\n",
       "      <td>-1.0</td>\n",
       "      <td>-1.0</td>\n",
       "      <td>-2</td>\n",
       "      <td>-2</td>\n",
       "      <td>413.0</td>\n",
       "      <td>0.0</td>\n",
       "      <td>103.0</td>\n",
       "      <td>0.0</td>\n",
       "      <td>0.0</td>\n",
       "      <td>0.0</td>\n",
       "      <td>0.0</td>\n",
       "      <td>103.0</td>\n",
       "      <td>0.0</td>\n",
       "      <td>0.0</td>\n",
       "      <td>0.0</td>\n",
       "      <td>225.0</td>\n",
       "      <td>0</td>\n",
       "    </tr>\n",
       "    <tr>\n",
       "      <th>2957</th>\n",
       "      <td>50000.0</td>\n",
       "      <td>2</td>\n",
       "      <td>1</td>\n",
       "      <td>2</td>\n",
       "      <td>31.0</td>\n",
       "      <td>-1.0</td>\n",
       "      <td>0.0</td>\n",
       "      <td>-1.0</td>\n",
       "      <td>-1.0</td>\n",
       "      <td>-1</td>\n",
       "      <td>-2</td>\n",
       "      <td>12725.0</td>\n",
       "      <td>34526.0</td>\n",
       "      <td>12787.0</td>\n",
       "      <td>3995.0</td>\n",
       "      <td>0.0</td>\n",
       "      <td>0.0</td>\n",
       "      <td>30018.0</td>\n",
       "      <td>12787.0</td>\n",
       "      <td>3995.0</td>\n",
       "      <td>0.0</td>\n",
       "      <td>0.0</td>\n",
       "      <td>0.0</td>\n",
       "      <td>0</td>\n",
       "    </tr>\n",
       "    <tr>\n",
       "      <th>2958</th>\n",
       "      <td>50000.0</td>\n",
       "      <td>2</td>\n",
       "      <td>1</td>\n",
       "      <td>2</td>\n",
       "      <td>25.0</td>\n",
       "      <td>-1.0</td>\n",
       "      <td>-1.0</td>\n",
       "      <td>2.0</td>\n",
       "      <td>-1.0</td>\n",
       "      <td>-1</td>\n",
       "      <td>-2</td>\n",
       "      <td>13572.0</td>\n",
       "      <td>17983.0</td>\n",
       "      <td>15590.0</td>\n",
       "      <td>10610.0</td>\n",
       "      <td>0.0</td>\n",
       "      <td>0.0</td>\n",
       "      <td>5000.0</td>\n",
       "      <td>200.0</td>\n",
       "      <td>10610.0</td>\n",
       "      <td>0.0</td>\n",
       "      <td>0.0</td>\n",
       "      <td>0.0</td>\n",
       "      <td>0</td>\n",
       "    </tr>\n",
       "    <tr>\n",
       "      <th>2959</th>\n",
       "      <td>100000.0</td>\n",
       "      <td>2</td>\n",
       "      <td>1</td>\n",
       "      <td>2</td>\n",
       "      <td>37.0</td>\n",
       "      <td>-1.0</td>\n",
       "      <td>-1.0</td>\n",
       "      <td>0.0</td>\n",
       "      <td>-1.0</td>\n",
       "      <td>-1</td>\n",
       "      <td>-2</td>\n",
       "      <td>1725.0</td>\n",
       "      <td>21711.0</td>\n",
       "      <td>10487.0</td>\n",
       "      <td>780.0</td>\n",
       "      <td>0.0</td>\n",
       "      <td>0.0</td>\n",
       "      <td>21711.0</td>\n",
       "      <td>1000.0</td>\n",
       "      <td>780.0</td>\n",
       "      <td>0.0</td>\n",
       "      <td>0.0</td>\n",
       "      <td>0.0</td>\n",
       "      <td>0</td>\n",
       "    </tr>\n",
       "    <tr>\n",
       "      <th>2960</th>\n",
       "      <td>30000.0</td>\n",
       "      <td>2</td>\n",
       "      <td>3</td>\n",
       "      <td>2</td>\n",
       "      <td>50.0</td>\n",
       "      <td>-1.0</td>\n",
       "      <td>-1.0</td>\n",
       "      <td>2.0</td>\n",
       "      <td>-1.0</td>\n",
       "      <td>-1</td>\n",
       "      <td>-2</td>\n",
       "      <td>178.0</td>\n",
       "      <td>1860.0</td>\n",
       "      <td>940.0</td>\n",
       "      <td>1110.0</td>\n",
       "      <td>0.0</td>\n",
       "      <td>0.0</td>\n",
       "      <td>1860.0</td>\n",
       "      <td>0.0</td>\n",
       "      <td>1110.0</td>\n",
       "      <td>0.0</td>\n",
       "      <td>0.0</td>\n",
       "      <td>0.0</td>\n",
       "      <td>1</td>\n",
       "    </tr>\n",
       "    <tr>\n",
       "      <th>2961</th>\n",
       "      <td>20000.0</td>\n",
       "      <td>2</td>\n",
       "      <td>1</td>\n",
       "      <td>2</td>\n",
       "      <td>25.0</td>\n",
       "      <td>-1.0</td>\n",
       "      <td>-1.0</td>\n",
       "      <td>-1.0</td>\n",
       "      <td>-1.0</td>\n",
       "      <td>-1</td>\n",
       "      <td>-2</td>\n",
       "      <td>2650.0</td>\n",
       "      <td>0.0</td>\n",
       "      <td>855.0</td>\n",
       "      <td>640.0</td>\n",
       "      <td>0.0</td>\n",
       "      <td>0.0</td>\n",
       "      <td>0.0</td>\n",
       "      <td>855.0</td>\n",
       "      <td>640.0</td>\n",
       "      <td>0.0</td>\n",
       "      <td>0.0</td>\n",
       "      <td>2742.0</td>\n",
       "      <td>0</td>\n",
       "    </tr>\n",
       "    <tr>\n",
       "      <th>2962</th>\n",
       "      <td>280000.0</td>\n",
       "      <td>2</td>\n",
       "      <td>1</td>\n",
       "      <td>2</td>\n",
       "      <td>52.0</td>\n",
       "      <td>-1.0</td>\n",
       "      <td>-1.0</td>\n",
       "      <td>-1.0</td>\n",
       "      <td>-1.0</td>\n",
       "      <td>-2</td>\n",
       "      <td>-2</td>\n",
       "      <td>886.0</td>\n",
       "      <td>0.0</td>\n",
       "      <td>930.0</td>\n",
       "      <td>0.0</td>\n",
       "      <td>0.0</td>\n",
       "      <td>0.0</td>\n",
       "      <td>0.0</td>\n",
       "      <td>930.0</td>\n",
       "      <td>0.0</td>\n",
       "      <td>0.0</td>\n",
       "      <td>0.0</td>\n",
       "      <td>0.0</td>\n",
       "      <td>0</td>\n",
       "    </tr>\n",
       "    <tr>\n",
       "      <th>2963</th>\n",
       "      <td>360000.0</td>\n",
       "      <td>2</td>\n",
       "      <td>2</td>\n",
       "      <td>2</td>\n",
       "      <td>26.0</td>\n",
       "      <td>-1.0</td>\n",
       "      <td>-1.0</td>\n",
       "      <td>-1.0</td>\n",
       "      <td>-1.0</td>\n",
       "      <td>-2</td>\n",
       "      <td>-2</td>\n",
       "      <td>1968.0</td>\n",
       "      <td>459.0</td>\n",
       "      <td>2500.0</td>\n",
       "      <td>0.0</td>\n",
       "      <td>0.0</td>\n",
       "      <td>0.0</td>\n",
       "      <td>463.0</td>\n",
       "      <td>2500.0</td>\n",
       "      <td>0.0</td>\n",
       "      <td>0.0</td>\n",
       "      <td>0.0</td>\n",
       "      <td>0.0</td>\n",
       "      <td>0</td>\n",
       "    </tr>\n",
       "    <tr>\n",
       "      <th>2964</th>\n",
       "      <td>100000.0</td>\n",
       "      <td>2</td>\n",
       "      <td>1</td>\n",
       "      <td>2</td>\n",
       "      <td>30.0</td>\n",
       "      <td>-1.0</td>\n",
       "      <td>-1.0</td>\n",
       "      <td>-1.0</td>\n",
       "      <td>-1.0</td>\n",
       "      <td>-2</td>\n",
       "      <td>-2</td>\n",
       "      <td>430.0</td>\n",
       "      <td>35993.0</td>\n",
       "      <td>2772.0</td>\n",
       "      <td>0.0</td>\n",
       "      <td>0.0</td>\n",
       "      <td>0.0</td>\n",
       "      <td>35993.0</td>\n",
       "      <td>2772.0</td>\n",
       "      <td>0.0</td>\n",
       "      <td>0.0</td>\n",
       "      <td>0.0</td>\n",
       "      <td>0.0</td>\n",
       "      <td>0</td>\n",
       "    </tr>\n",
       "  </tbody>\n",
       "</table>\n",
       "</div>"
      ],
      "text/plain": [
       "      limit_balance  sex  education_level  marital_status   age  pay_0  pay_2  \\\n",
       "2955       300000.0    2                2               1  28.0   -1.0   -1.0   \n",
       "2956       200000.0    2                1               1  49.0   -1.0   -1.0   \n",
       "2957        50000.0    2                1               2  31.0   -1.0    0.0   \n",
       "2958        50000.0    2                1               2  25.0   -1.0   -1.0   \n",
       "2959       100000.0    2                1               2  37.0   -1.0   -1.0   \n",
       "2960        30000.0    2                3               2  50.0   -1.0   -1.0   \n",
       "2961        20000.0    2                1               2  25.0   -1.0   -1.0   \n",
       "2962       280000.0    2                1               2  52.0   -1.0   -1.0   \n",
       "2963       360000.0    2                2               2  26.0   -1.0   -1.0   \n",
       "2964       100000.0    2                1               2  30.0   -1.0   -1.0   \n",
       "\n",
       "      pay_3  pay_4  pay_5  pay_6  bill_amt_1  bill_amt_2  bill_amt_3  \\\n",
       "2955   -1.0   -1.0     -2     -2     16666.0      1000.0     16666.0   \n",
       "2956   -1.0   -1.0     -2     -2       413.0         0.0       103.0   \n",
       "2957   -1.0   -1.0     -1     -2     12725.0     34526.0     12787.0   \n",
       "2958    2.0   -1.0     -1     -2     13572.0     17983.0     15590.0   \n",
       "2959    0.0   -1.0     -1     -2      1725.0     21711.0     10487.0   \n",
       "2960    2.0   -1.0     -1     -2       178.0      1860.0       940.0   \n",
       "2961   -1.0   -1.0     -1     -2      2650.0         0.0       855.0   \n",
       "2962   -1.0   -1.0     -2     -2       886.0         0.0       930.0   \n",
       "2963   -1.0   -1.0     -2     -2      1968.0       459.0      2500.0   \n",
       "2964   -1.0   -1.0     -2     -2       430.0     35993.0      2772.0   \n",
       "\n",
       "      bill_amt_4  bill_amt_5  bill_amt_6  pay_amt_1  pay_amt_2  pay_amt_3  \\\n",
       "2955         0.0         0.0         0.0     1000.0    16666.0        0.0   \n",
       "2956         0.0         0.0         0.0        0.0      103.0        0.0   \n",
       "2957      3995.0         0.0         0.0    30018.0    12787.0     3995.0   \n",
       "2958     10610.0         0.0         0.0     5000.0      200.0    10610.0   \n",
       "2959       780.0         0.0         0.0    21711.0     1000.0      780.0   \n",
       "2960      1110.0         0.0         0.0     1860.0        0.0     1110.0   \n",
       "2961       640.0         0.0         0.0        0.0      855.0      640.0   \n",
       "2962         0.0         0.0         0.0        0.0      930.0        0.0   \n",
       "2963         0.0         0.0         0.0      463.0     2500.0        0.0   \n",
       "2964         0.0         0.0         0.0    35993.0     2772.0        0.0   \n",
       "\n",
       "      pay_amt_4  pay_amt_5  pay_amt_6  default_payment_next_month  \n",
       "2955        0.0        0.0        0.0                           0  \n",
       "2956        0.0        0.0      225.0                           0  \n",
       "2957        0.0        0.0        0.0                           0  \n",
       "2958        0.0        0.0        0.0                           0  \n",
       "2959        0.0        0.0        0.0                           0  \n",
       "2960        0.0        0.0        0.0                           1  \n",
       "2961        0.0        0.0     2742.0                           0  \n",
       "2962        0.0        0.0        0.0                           0  \n",
       "2963        0.0        0.0        0.0                           0  \n",
       "2964        0.0        0.0        0.0                           0  "
      ]
     },
     "execution_count": 67,
     "metadata": {},
     "output_type": "execute_result"
    }
   ],
   "source": [
    "# show 10 footer datas\n",
    "df.tail(10)"
   ]
  },
  {
   "attachments": {},
   "cell_type": "markdown",
   "metadata": {},
   "source": [
    "because the data taken from google cloud platform, we need to describe each column for know the information they contain. we take description of each column from google cloud platform."
   ]
  },
  {
   "attachments": {},
   "cell_type": "markdown",
   "metadata": {},
   "source": [
    "|No|Column Name|Description|\n",
    "|-|----|----|\n",
    "|1|Balance Limit|Amount of given credit in New Taiwan Dollars (NTD)|\n",
    "|2|sex|1 = Male <br> 2 = Female|\n",
    "|3|education level|1 = graduate school <br> 2 = university <br> 3 = high school <br> 4 = others <br> 5 & 6 = unknown|\n",
    "|4|marital_status|1 = married <br> 2 = single <br> 3 = others|\n",
    "|5|age|age in years|\n",
    "|6|pay_0|Repayment status in September, 2005: <br> -1 = pay duly <br> 0 = ontime payment <br> 1 = payment delay for one month <br> 2 = payment delay for two months, ... <br> 8 = payment delay for eight months <br> 9 = payment delay for nine months and above)|\n",
    "|7|pay_2|Repayment status in August, 2005 (scale same as above)|\n",
    "|8|pay_3|Repayment status in July, 2005 (scale same as above)|\n",
    "|9|pay_4|Repayment status in June, 2005 (scale same as above)|\n",
    "|10|pay_5|Repayment status in May, 2005 (scale same as above)|\n",
    "|11|pay_6|Repayment status in April, 2005 (scale same as above)|\n",
    "|12|bill_amt_1|Amount of bill statement in September, 2005 (NTD)|\n",
    "|13|bill_amt_2|Amount of bill statement in August, 2005 (NTD)|\n",
    "|14|bill_amt_3|Amount of bill statement in July, 2005 (NTD)|\n",
    "|15|bill_amt_4|Amount of bill statement in Juny, 2005 (NTD)|\n",
    "|16|bill_amt_5|Amount of bill statement in May, 2005 (NTD)|\n",
    "|17|bill_amt_6|Amount of bill statement in April, 2005 (NTD)|\n",
    "|18|pay_amt_1|Amount of previous payment in September, 2005 (NTD)|\n",
    "|19|pay_amt_2|Amount of previous payment in August, 2005 (NTD)|\n",
    "|20|pay_amt_3|Amount of previous payment in July, 2005 (NTD)|\n",
    "|21|pay_amt_4|Amount of previous payment in Juny, 2005 (NTD)|\n",
    "|22|pay_amt_5|Amount of previous payment in May, 2005 (NTD)|\n",
    "|23|pay_amt_6|Amount of previous payment in April, 2005 (NTD)|\n",
    "|24|default_payment_next_month|Default payment: <br> 1=yes <br> 0=no|"
   ]
  },
  {
   "cell_type": "code",
   "execution_count": 68,
   "metadata": {},
   "outputs": [
    {
     "name": "stdout",
     "output_type": "stream",
     "text": [
      "<class 'pandas.core.frame.DataFrame'>\n",
      "RangeIndex: 2965 entries, 0 to 2964\n",
      "Data columns (total 24 columns):\n",
      " #   Column                      Non-Null Count  Dtype  \n",
      "---  ------                      --------------  -----  \n",
      " 0   limit_balance               2965 non-null   float64\n",
      " 1   sex                         2965 non-null   int64  \n",
      " 2   education_level             2965 non-null   int64  \n",
      " 3   marital_status              2965 non-null   int64  \n",
      " 4   age                         2965 non-null   float64\n",
      " 5   pay_0                       2965 non-null   float64\n",
      " 6   pay_2                       2965 non-null   float64\n",
      " 7   pay_3                       2965 non-null   float64\n",
      " 8   pay_4                       2965 non-null   float64\n",
      " 9   pay_5                       2965 non-null   int64  \n",
      " 10  pay_6                       2965 non-null   int64  \n",
      " 11  bill_amt_1                  2965 non-null   float64\n",
      " 12  bill_amt_2                  2965 non-null   float64\n",
      " 13  bill_amt_3                  2965 non-null   float64\n",
      " 14  bill_amt_4                  2965 non-null   float64\n",
      " 15  bill_amt_5                  2965 non-null   float64\n",
      " 16  bill_amt_6                  2965 non-null   float64\n",
      " 17  pay_amt_1                   2965 non-null   float64\n",
      " 18  pay_amt_2                   2965 non-null   float64\n",
      " 19  pay_amt_3                   2965 non-null   float64\n",
      " 20  pay_amt_4                   2965 non-null   float64\n",
      " 21  pay_amt_5                   2965 non-null   float64\n",
      " 22  pay_amt_6                   2965 non-null   float64\n",
      " 23  default_payment_next_month  2965 non-null   int64  \n",
      "dtypes: float64(18), int64(6)\n",
      "memory usage: 556.1 KB\n"
     ]
    }
   ],
   "source": [
    "# look for length\n",
    "df.info()"
   ]
  },
  {
   "attachments": {},
   "cell_type": "markdown",
   "metadata": {},
   "source": [
    "base on database info all columns not have missing values inputation (2965 of 2965 data inputation), but we need to see more depth are the data have strange inputation or not."
   ]
  },
  {
   "cell_type": "code",
   "execution_count": 69,
   "metadata": {},
   "outputs": [
    {
     "data": {
      "text/html": [
       "<div>\n",
       "<style scoped>\n",
       "    .dataframe tbody tr th:only-of-type {\n",
       "        vertical-align: middle;\n",
       "    }\n",
       "\n",
       "    .dataframe tbody tr th {\n",
       "        vertical-align: top;\n",
       "    }\n",
       "\n",
       "    .dataframe thead th {\n",
       "        text-align: right;\n",
       "    }\n",
       "</style>\n",
       "<table border=\"1\" class=\"dataframe\">\n",
       "  <thead>\n",
       "    <tr style=\"text-align: right;\">\n",
       "      <th></th>\n",
       "      <th>limit_balance</th>\n",
       "      <th>sex</th>\n",
       "      <th>education_level</th>\n",
       "      <th>marital_status</th>\n",
       "      <th>age</th>\n",
       "      <th>pay_0</th>\n",
       "      <th>pay_2</th>\n",
       "      <th>pay_3</th>\n",
       "      <th>pay_4</th>\n",
       "      <th>pay_5</th>\n",
       "      <th>pay_6</th>\n",
       "      <th>bill_amt_1</th>\n",
       "      <th>bill_amt_2</th>\n",
       "      <th>bill_amt_3</th>\n",
       "      <th>bill_amt_4</th>\n",
       "      <th>bill_amt_5</th>\n",
       "      <th>bill_amt_6</th>\n",
       "      <th>pay_amt_1</th>\n",
       "      <th>pay_amt_2</th>\n",
       "      <th>pay_amt_3</th>\n",
       "      <th>pay_amt_4</th>\n",
       "      <th>pay_amt_5</th>\n",
       "      <th>pay_amt_6</th>\n",
       "      <th>default_payment_next_month</th>\n",
       "    </tr>\n",
       "  </thead>\n",
       "  <tbody>\n",
       "    <tr>\n",
       "      <th>count</th>\n",
       "      <td>2965.000000</td>\n",
       "      <td>2965.000000</td>\n",
       "      <td>2965.000000</td>\n",
       "      <td>2965.000000</td>\n",
       "      <td>2965.000000</td>\n",
       "      <td>2965.000000</td>\n",
       "      <td>2965.000000</td>\n",
       "      <td>2965.000000</td>\n",
       "      <td>2965.000000</td>\n",
       "      <td>2965.000000</td>\n",
       "      <td>2965.000000</td>\n",
       "      <td>2965.000000</td>\n",
       "      <td>2965.000000</td>\n",
       "      <td>2965.000000</td>\n",
       "      <td>2965.000000</td>\n",
       "      <td>2965.000000</td>\n",
       "      <td>2965.000000</td>\n",
       "      <td>2965.000000</td>\n",
       "      <td>2.965000e+03</td>\n",
       "      <td>2965.000000</td>\n",
       "      <td>2965.000000</td>\n",
       "      <td>2965.000000</td>\n",
       "      <td>2965.000000</td>\n",
       "      <td>2965.000000</td>\n",
       "    </tr>\n",
       "    <tr>\n",
       "      <th>mean</th>\n",
       "      <td>163369.308600</td>\n",
       "      <td>1.607757</td>\n",
       "      <td>1.849578</td>\n",
       "      <td>1.559865</td>\n",
       "      <td>35.193255</td>\n",
       "      <td>0.005059</td>\n",
       "      <td>-0.122428</td>\n",
       "      <td>-0.141653</td>\n",
       "      <td>-0.185160</td>\n",
       "      <td>-0.225295</td>\n",
       "      <td>-0.254637</td>\n",
       "      <td>52118.305228</td>\n",
       "      <td>50649.153120</td>\n",
       "      <td>48239.757504</td>\n",
       "      <td>44089.683305</td>\n",
       "      <td>40956.080607</td>\n",
       "      <td>39773.072513</td>\n",
       "      <td>6348.902867</td>\n",
       "      <td>6.272494e+03</td>\n",
       "      <td>5150.497133</td>\n",
       "      <td>4561.376054</td>\n",
       "      <td>4913.286678</td>\n",
       "      <td>5382.701518</td>\n",
       "      <td>0.214165</td>\n",
       "    </tr>\n",
       "    <tr>\n",
       "      <th>std</th>\n",
       "      <td>125030.415472</td>\n",
       "      <td>0.488333</td>\n",
       "      <td>0.778184</td>\n",
       "      <td>0.522317</td>\n",
       "      <td>9.109439</td>\n",
       "      <td>1.114395</td>\n",
       "      <td>1.180784</td>\n",
       "      <td>1.183630</td>\n",
       "      <td>1.178322</td>\n",
       "      <td>1.159003</td>\n",
       "      <td>1.167305</td>\n",
       "      <td>72328.670541</td>\n",
       "      <td>70785.001588</td>\n",
       "      <td>68145.710745</td>\n",
       "      <td>61907.454056</td>\n",
       "      <td>58271.904751</td>\n",
       "      <td>57303.488981</td>\n",
       "      <td>20885.735336</td>\n",
       "      <td>2.887967e+04</td>\n",
       "      <td>14287.079982</td>\n",
       "      <td>13281.499599</td>\n",
       "      <td>16734.340778</td>\n",
       "      <td>17275.953029</td>\n",
       "      <td>0.410311</td>\n",
       "    </tr>\n",
       "    <tr>\n",
       "      <th>min</th>\n",
       "      <td>10000.000000</td>\n",
       "      <td>1.000000</td>\n",
       "      <td>0.000000</td>\n",
       "      <td>0.000000</td>\n",
       "      <td>21.000000</td>\n",
       "      <td>-2.000000</td>\n",
       "      <td>-2.000000</td>\n",
       "      <td>-2.000000</td>\n",
       "      <td>-2.000000</td>\n",
       "      <td>-2.000000</td>\n",
       "      <td>-2.000000</td>\n",
       "      <td>-11545.000000</td>\n",
       "      <td>-67526.000000</td>\n",
       "      <td>-25443.000000</td>\n",
       "      <td>-46627.000000</td>\n",
       "      <td>-46627.000000</td>\n",
       "      <td>-73895.000000</td>\n",
       "      <td>0.000000</td>\n",
       "      <td>0.000000e+00</td>\n",
       "      <td>0.000000</td>\n",
       "      <td>0.000000</td>\n",
       "      <td>0.000000</td>\n",
       "      <td>0.000000</td>\n",
       "      <td>0.000000</td>\n",
       "    </tr>\n",
       "    <tr>\n",
       "      <th>25%</th>\n",
       "      <td>50000.000000</td>\n",
       "      <td>1.000000</td>\n",
       "      <td>1.000000</td>\n",
       "      <td>1.000000</td>\n",
       "      <td>28.000000</td>\n",
       "      <td>-1.000000</td>\n",
       "      <td>-1.000000</td>\n",
       "      <td>-1.000000</td>\n",
       "      <td>-1.000000</td>\n",
       "      <td>-1.000000</td>\n",
       "      <td>-1.000000</td>\n",
       "      <td>3958.000000</td>\n",
       "      <td>3390.000000</td>\n",
       "      <td>3302.000000</td>\n",
       "      <td>2582.000000</td>\n",
       "      <td>1958.000000</td>\n",
       "      <td>1430.000000</td>\n",
       "      <td>1013.000000</td>\n",
       "      <td>9.900000e+02</td>\n",
       "      <td>477.000000</td>\n",
       "      <td>313.000000</td>\n",
       "      <td>323.000000</td>\n",
       "      <td>173.000000</td>\n",
       "      <td>0.000000</td>\n",
       "    </tr>\n",
       "    <tr>\n",
       "      <th>50%</th>\n",
       "      <td>140000.000000</td>\n",
       "      <td>2.000000</td>\n",
       "      <td>2.000000</td>\n",
       "      <td>2.000000</td>\n",
       "      <td>34.000000</td>\n",
       "      <td>0.000000</td>\n",
       "      <td>0.000000</td>\n",
       "      <td>0.000000</td>\n",
       "      <td>0.000000</td>\n",
       "      <td>0.000000</td>\n",
       "      <td>0.000000</td>\n",
       "      <td>24257.000000</td>\n",
       "      <td>23111.000000</td>\n",
       "      <td>21520.000000</td>\n",
       "      <td>19894.000000</td>\n",
       "      <td>18814.000000</td>\n",
       "      <td>18508.000000</td>\n",
       "      <td>2234.000000</td>\n",
       "      <td>2.175000e+03</td>\n",
       "      <td>1994.000000</td>\n",
       "      <td>1600.000000</td>\n",
       "      <td>1646.000000</td>\n",
       "      <td>1615.000000</td>\n",
       "      <td>0.000000</td>\n",
       "    </tr>\n",
       "    <tr>\n",
       "      <th>75%</th>\n",
       "      <td>230000.000000</td>\n",
       "      <td>2.000000</td>\n",
       "      <td>2.000000</td>\n",
       "      <td>2.000000</td>\n",
       "      <td>41.000000</td>\n",
       "      <td>0.000000</td>\n",
       "      <td>0.000000</td>\n",
       "      <td>0.000000</td>\n",
       "      <td>0.000000</td>\n",
       "      <td>0.000000</td>\n",
       "      <td>0.000000</td>\n",
       "      <td>69852.000000</td>\n",
       "      <td>67827.000000</td>\n",
       "      <td>63023.000000</td>\n",
       "      <td>58622.000000</td>\n",
       "      <td>53373.000000</td>\n",
       "      <td>52287.000000</td>\n",
       "      <td>5087.000000</td>\n",
       "      <td>5.000000e+03</td>\n",
       "      <td>4500.000000</td>\n",
       "      <td>4000.000000</td>\n",
       "      <td>4021.000000</td>\n",
       "      <td>4081.000000</td>\n",
       "      <td>0.000000</td>\n",
       "    </tr>\n",
       "    <tr>\n",
       "      <th>max</th>\n",
       "      <td>800000.000000</td>\n",
       "      <td>2.000000</td>\n",
       "      <td>6.000000</td>\n",
       "      <td>3.000000</td>\n",
       "      <td>69.000000</td>\n",
       "      <td>8.000000</td>\n",
       "      <td>7.000000</td>\n",
       "      <td>7.000000</td>\n",
       "      <td>8.000000</td>\n",
       "      <td>7.000000</td>\n",
       "      <td>7.000000</td>\n",
       "      <td>613860.000000</td>\n",
       "      <td>512650.000000</td>\n",
       "      <td>578971.000000</td>\n",
       "      <td>488808.000000</td>\n",
       "      <td>441981.000000</td>\n",
       "      <td>436172.000000</td>\n",
       "      <td>493358.000000</td>\n",
       "      <td>1.227082e+06</td>\n",
       "      <td>199209.000000</td>\n",
       "      <td>202076.000000</td>\n",
       "      <td>388071.000000</td>\n",
       "      <td>403500.000000</td>\n",
       "      <td>1.000000</td>\n",
       "    </tr>\n",
       "  </tbody>\n",
       "</table>\n",
       "</div>"
      ],
      "text/plain": [
       "       limit_balance          sex  education_level  marital_status  \\\n",
       "count    2965.000000  2965.000000      2965.000000     2965.000000   \n",
       "mean   163369.308600     1.607757         1.849578        1.559865   \n",
       "std    125030.415472     0.488333         0.778184        0.522317   \n",
       "min     10000.000000     1.000000         0.000000        0.000000   \n",
       "25%     50000.000000     1.000000         1.000000        1.000000   \n",
       "50%    140000.000000     2.000000         2.000000        2.000000   \n",
       "75%    230000.000000     2.000000         2.000000        2.000000   \n",
       "max    800000.000000     2.000000         6.000000        3.000000   \n",
       "\n",
       "               age        pay_0        pay_2        pay_3        pay_4  \\\n",
       "count  2965.000000  2965.000000  2965.000000  2965.000000  2965.000000   \n",
       "mean     35.193255     0.005059    -0.122428    -0.141653    -0.185160   \n",
       "std       9.109439     1.114395     1.180784     1.183630     1.178322   \n",
       "min      21.000000    -2.000000    -2.000000    -2.000000    -2.000000   \n",
       "25%      28.000000    -1.000000    -1.000000    -1.000000    -1.000000   \n",
       "50%      34.000000     0.000000     0.000000     0.000000     0.000000   \n",
       "75%      41.000000     0.000000     0.000000     0.000000     0.000000   \n",
       "max      69.000000     8.000000     7.000000     7.000000     8.000000   \n",
       "\n",
       "             pay_5        pay_6     bill_amt_1     bill_amt_2     bill_amt_3  \\\n",
       "count  2965.000000  2965.000000    2965.000000    2965.000000    2965.000000   \n",
       "mean     -0.225295    -0.254637   52118.305228   50649.153120   48239.757504   \n",
       "std       1.159003     1.167305   72328.670541   70785.001588   68145.710745   \n",
       "min      -2.000000    -2.000000  -11545.000000  -67526.000000  -25443.000000   \n",
       "25%      -1.000000    -1.000000    3958.000000    3390.000000    3302.000000   \n",
       "50%       0.000000     0.000000   24257.000000   23111.000000   21520.000000   \n",
       "75%       0.000000     0.000000   69852.000000   67827.000000   63023.000000   \n",
       "max       7.000000     7.000000  613860.000000  512650.000000  578971.000000   \n",
       "\n",
       "          bill_amt_4     bill_amt_5     bill_amt_6      pay_amt_1  \\\n",
       "count    2965.000000    2965.000000    2965.000000    2965.000000   \n",
       "mean    44089.683305   40956.080607   39773.072513    6348.902867   \n",
       "std     61907.454056   58271.904751   57303.488981   20885.735336   \n",
       "min    -46627.000000  -46627.000000  -73895.000000       0.000000   \n",
       "25%      2582.000000    1958.000000    1430.000000    1013.000000   \n",
       "50%     19894.000000   18814.000000   18508.000000    2234.000000   \n",
       "75%     58622.000000   53373.000000   52287.000000    5087.000000   \n",
       "max    488808.000000  441981.000000  436172.000000  493358.000000   \n",
       "\n",
       "          pay_amt_2      pay_amt_3      pay_amt_4      pay_amt_5  \\\n",
       "count  2.965000e+03    2965.000000    2965.000000    2965.000000   \n",
       "mean   6.272494e+03    5150.497133    4561.376054    4913.286678   \n",
       "std    2.887967e+04   14287.079982   13281.499599   16734.340778   \n",
       "min    0.000000e+00       0.000000       0.000000       0.000000   \n",
       "25%    9.900000e+02     477.000000     313.000000     323.000000   \n",
       "50%    2.175000e+03    1994.000000    1600.000000    1646.000000   \n",
       "75%    5.000000e+03    4500.000000    4000.000000    4021.000000   \n",
       "max    1.227082e+06  199209.000000  202076.000000  388071.000000   \n",
       "\n",
       "           pay_amt_6  default_payment_next_month  \n",
       "count    2965.000000                 2965.000000  \n",
       "mean     5382.701518                    0.214165  \n",
       "std     17275.953029                    0.410311  \n",
       "min         0.000000                    0.000000  \n",
       "25%       173.000000                    0.000000  \n",
       "50%      1615.000000                    0.000000  \n",
       "75%      4081.000000                    0.000000  \n",
       "max    403500.000000                    1.000000  "
      ]
     },
     "execution_count": 69,
     "metadata": {},
     "output_type": "execute_result"
    }
   ],
   "source": [
    "#check dataset overview\n",
    "df.describe()"
   ]
  },
  {
   "attachments": {},
   "cell_type": "markdown",
   "metadata": {},
   "source": [
    "base on data mayority columns have big range between max value and value on percentile 75% (in range 2 - 4 multiplier) so maybe our data have so many outlier, but we need to see it more."
   ]
  },
  {
   "attachments": {},
   "cell_type": "markdown",
   "metadata": {},
   "source": [
    "for making easy to read we will chance the columns name."
   ]
  },
  {
   "cell_type": "code",
   "execution_count": 70,
   "metadata": {},
   "outputs": [],
   "source": [
    "df.rename(columns={'pay_0' : 'stat_pay_sep', 'pay_2' : 'stat_pay_aug', 'pay_3' : 'stat_pay_jul',\n",
    "                   'pay_4' : 'stat_pay_jun', 'pay_5' : 'stat_pay_may', 'pay_6' : 'stat_pay_apr',\n",
    "                   'bill_amt_1' : 'bill_sep', 'bill_amt_2' : 'bill_aug', 'bill_amt_3' : 'bill_jul',\n",
    "                   'bill_amt_4' : 'bill_jun', 'bill_amt_5' : 'bill_may', 'bill_amt_6' : 'bill_apr',\n",
    "                   'pay_amt_1' : 'pay_sep', 'pay_amt_2' : 'pay_aug', 'pay_amt_3' : 'pay_jul',\n",
    "                   'pay_amt_4' : 'pay_jun', 'pay_amt_5' : 'pay_may', 'pay_amt_6' : 'pay_apr',\n",
    "                   'default_payment_next_month' : 'fault_payment'},inplace=True)"
   ]
  },
  {
   "attachments": {},
   "cell_type": "markdown",
   "metadata": {},
   "source": [
    "## Exploratory Data Analysis (EDA)"
   ]
  },
  {
   "attachments": {},
   "cell_type": "markdown",
   "metadata": {},
   "source": [
    "### Search Corelations between features and target"
   ]
  },
  {
   "cell_type": "code",
   "execution_count": 71,
   "metadata": {},
   "outputs": [
    {
     "data": {
      "image/png": "[encoded data removed]",
      "text/plain": [
       "<Figure size 640x480 with 2 Axes>"
      ]
     },
     "metadata": {},
     "output_type": "display_data"
    }
   ],
   "source": [
    "# search correlation between bill payment and stat pay\n",
    "stat_pay_corr = ['fault_payment','stat_pay_sep', 'stat_pay_aug', 'stat_pay_jul', 'stat_pay_jun', 'stat_pay_may', 'stat_pay_apr']\n",
    "sns.heatmap(data=df[stat_pay_corr].corr(), annot=True)\n",
    "plt.title(\"Pearson's Correlation Status Payment\");"
   ]
  },
  {
   "attachments": {},
   "cell_type": "markdown",
   "metadata": {},
   "source": [
    "base on pearson correlation, stat_pay_apr - sep has low correlation with fault_payment"
   ]
  },
  {
   "cell_type": "code",
   "execution_count": 72,
   "metadata": {},
   "outputs": [
    {
     "data": {
      "image/png": "[encoded data removed]",
      "text/plain": [
       "<Figure size 640x480 with 2 Axes>"
      ]
     },
     "metadata": {},
     "output_type": "display_data"
    }
   ],
   "source": [
    "# search correlation between bill payment and bill amount\n",
    "bill_corr = ['fault_payment', 'bill_sep', 'bill_aug', 'bill_jul', 'bill_jun', 'bill_may', 'bill_apr']\n",
    "sns.heatmap(data=df[bill_corr].corr(), annot=True)\n",
    "plt.title(\"Pearson's Correlation Bill Amount\");"
   ]
  },
  {
   "attachments": {},
   "cell_type": "markdown",
   "metadata": {},
   "source": [
    "base on pearson correlation, bill_apr - sep has doesn't have correlation with fault_payment"
   ]
  },
  {
   "cell_type": "code",
   "execution_count": 73,
   "metadata": {},
   "outputs": [
    {
     "data": {
      "image/png": "[encoded data removed]",
      "text/plain": [
       "<Figure size 640x480 with 2 Axes>"
      ]
     },
     "metadata": {},
     "output_type": "display_data"
    }
   ],
   "source": [
    "# search correlation between bill payment and payment amount\n",
    "pay_corr = ['fault_payment', 'pay_sep', 'pay_aug', 'pay_jul', 'pay_jun', 'pay_may', 'pay_apr']\n",
    "sns.heatmap(data=df[pay_corr].corr(), annot=True)\n",
    "plt.title(\"Pearson's Correlation Pay Amount\");"
   ]
  },
  {
   "attachments": {},
   "cell_type": "markdown",
   "metadata": {},
   "source": [
    "same like bill_apr - sep, pay_apr - sep has doesn't have correlation with fault_payment"
   ]
  },
  {
   "cell_type": "code",
   "execution_count": 74,
   "metadata": {},
   "outputs": [
    {
     "data": {
      "image/png": "[encoded data removed]",
      "text/plain": [
       "<Figure size 640x480 with 2 Axes>"
      ]
     },
     "metadata": {},
     "output_type": "display_data"
    }
   ],
   "source": [
    "# search correlation between bill payment and other\n",
    "other_corr = ['fault_payment', 'limit_balance', 'sex', 'education_level', 'marital_status', 'age']\n",
    "sns.heatmap(data=df[other_corr].corr(), annot=True)\n",
    "plt.title(\"Pearson's Correlation other\");"
   ]
  },
  {
   "attachments": {},
   "cell_type": "markdown",
   "metadata": {},
   "source": [
    "as we can see, on other columns doesn't have any correlation too with fault_payment expect that limit_balance."
   ]
  },
  {
   "attachments": {},
   "cell_type": "markdown",
   "metadata": {},
   "source": [
    "from 4 combinations correlation with fault_payment, i prefer to pick status payment & limit balance as our features."
   ]
  },
  {
   "attachments": {},
   "cell_type": "markdown",
   "metadata": {},
   "source": [
    "### Look at Data Distributions"
   ]
  },
  {
   "cell_type": "code",
   "execution_count": 75,
   "metadata": {},
   "outputs": [
    {
     "name": "stdout",
     "output_type": "stream",
     "text": [
      "limit_balance Skewness Level : 1.0004416437793326\n",
      "limit_balance is right skew\n",
      "\n"
     ]
    },
    {
     "data": {
      "image/png": "[encoded data removed]",
      "text/plain": [
       "<Figure size 640x480 with 1 Axes>"
      ]
     },
     "metadata": {},
     "output_type": "display_data"
    }
   ],
   "source": [
    "# plot distribution of data features and target\n",
    "sns.histplot(data=df['limit_balance']);\n",
    "\n",
    "# show skewness level and determine whatever the column is skew or normal distribution\n",
    "for col in df[['limit_balance']]:\n",
    "    print(df[col].name,'Skewness Level :', df[col].skew())\n",
    "    if df[col].skew() > 0.5 :\n",
    "        print(df[col].name,'is right skew')\n",
    "    elif df[col].skew() < -0.5 :\n",
    "        print(df[col].name,'is left skew')\n",
    "    else :\n",
    "        print(df[col].name,'is normal distributed')\n",
    "    print(\"\")"
   ]
  },
  {
   "cell_type": "code",
   "execution_count": 76,
   "metadata": {},
   "outputs": [
    {
     "data": {
      "image/png": "[encoded data removed]",
      "text/plain": [
       "<Figure size 640x480 with 1 Axes>"
      ]
     },
     "metadata": {},
     "output_type": "display_data"
    }
   ],
   "source": [
    "# Status payment sep vs limit balance vs bill payment\n",
    "sns.scatterplot(x='stat_pay_sep', y='limit_balance', data=df, hue='fault_payment');"
   ]
  },
  {
   "attachments": {},
   "cell_type": "markdown",
   "metadata": {},
   "source": [
    "as we can see, if clien have more big limit balance they will pay them bills, but more have long delayed payment they willn't pay it on next month."
   ]
  },
  {
   "attachments": {},
   "cell_type": "markdown",
   "metadata": {},
   "source": [
    "### Search features & target proportion"
   ]
  },
  {
   "cell_type": "code",
   "execution_count": 77,
   "metadata": {},
   "outputs": [
    {
     "data": {
      "image/png": "[encoded data removed]",
      "text/plain": [
       "<Figure size 1500x1500 with 6 Axes>"
      ]
     },
     "metadata": {},
     "output_type": "display_data"
    }
   ],
   "source": [
    "# show proportion of data features\n",
    "fig, axes = plt.subplots(nrows=3, ncols=2, figsize=(15,15))\n",
    "axes = axes.flatten()\n",
    "sns.countplot(x='stat_pay_sep', data=df, ax=axes[0])\n",
    "sns.countplot(x='stat_pay_aug', data=df, ax=axes[1])\n",
    "sns.countplot(x='stat_pay_jul', data=df, ax=axes[2])\n",
    "sns.countplot(x='stat_pay_jun', data=df, ax=axes[3])\n",
    "sns.countplot(x='stat_pay_may', data=df, ax=axes[4])\n",
    "sns.countplot(x='stat_pay_apr', data=df, ax=axes[5]);"
   ]
  },
  {
   "attachments": {},
   "cell_type": "markdown",
   "metadata": {},
   "source": [
    "for all stat_pay_apr - sep the mayority of data is 0 category (ontime payment)"
   ]
  },
  {
   "cell_type": "code",
   "execution_count": 78,
   "metadata": {},
   "outputs": [
    {
     "data": {
      "image/png": "[encoded data removed]",
      "text/plain": [
       "<Figure size 640x480 with 1 Axes>"
      ]
     },
     "metadata": {},
     "output_type": "display_data"
    }
   ],
   "source": [
    "#plot pie chart for look target columns proportion\n",
    "df['fault_payment'].value_counts().plot(kind='pie', autopct='%.2f%%');"
   ]
  },
  {
   "attachments": {},
   "cell_type": "markdown",
   "metadata": {},
   "source": [
    "1. the data tell that people who pay them bills on next month is more many than they who cant pay them bills. \n",
    "2. our data target is not balance, we need to stratify them on split for minimalization data test doesn't have one category."
   ]
  },
  {
   "attachments": {},
   "cell_type": "markdown",
   "metadata": {},
   "source": [
    "## Data Preprocessing"
   ]
  },
  {
   "attachments": {},
   "cell_type": "markdown",
   "metadata": {},
   "source": [
    "### Look Multicolinearity "
   ]
  },
  {
   "cell_type": "code",
   "execution_count": 79,
   "metadata": {},
   "outputs": [],
   "source": [
    "# VIF Calculator\n",
    "def vif(c):\n",
    "    vif = pd.DataFrame()\n",
    "    vif['Column'] = c.columns\n",
    "    vif['VIF'] = [variance_inflation_factor(c.values, i) for i in range(c.shape[1])]\n",
    "\n",
    "    return vif"
   ]
  },
  {
   "cell_type": "code",
   "execution_count": 80,
   "metadata": {},
   "outputs": [
    {
     "data": {
      "text/html": [
       "<div>\n",
       "<style scoped>\n",
       "    .dataframe tbody tr th:only-of-type {\n",
       "        vertical-align: middle;\n",
       "    }\n",
       "\n",
       "    .dataframe tbody tr th {\n",
       "        vertical-align: top;\n",
       "    }\n",
       "\n",
       "    .dataframe thead th {\n",
       "        text-align: right;\n",
       "    }\n",
       "</style>\n",
       "<table border=\"1\" class=\"dataframe\">\n",
       "  <thead>\n",
       "    <tr style=\"text-align: right;\">\n",
       "      <th></th>\n",
       "      <th>Column</th>\n",
       "      <th>VIF</th>\n",
       "    </tr>\n",
       "  </thead>\n",
       "  <tbody>\n",
       "    <tr>\n",
       "      <th>0</th>\n",
       "      <td>stat_pay_sep</td>\n",
       "      <td>1.845663</td>\n",
       "    </tr>\n",
       "    <tr>\n",
       "      <th>1</th>\n",
       "      <td>stat_pay_aug</td>\n",
       "      <td>3.132112</td>\n",
       "    </tr>\n",
       "    <tr>\n",
       "      <th>2</th>\n",
       "      <td>stat_pay_jul</td>\n",
       "      <td>3.404884</td>\n",
       "    </tr>\n",
       "    <tr>\n",
       "      <th>3</th>\n",
       "      <td>stat_pay_jun</td>\n",
       "      <td>4.084622</td>\n",
       "    </tr>\n",
       "    <tr>\n",
       "      <th>4</th>\n",
       "      <td>stat_pay_may</td>\n",
       "      <td>4.816025</td>\n",
       "    </tr>\n",
       "    <tr>\n",
       "      <th>5</th>\n",
       "      <td>stat_pay_apr</td>\n",
       "      <td>3.212958</td>\n",
       "    </tr>\n",
       "    <tr>\n",
       "      <th>6</th>\n",
       "      <td>limit_balance</td>\n",
       "      <td>1.123589</td>\n",
       "    </tr>\n",
       "  </tbody>\n",
       "</table>\n",
       "</div>"
      ],
      "text/plain": [
       "          Column       VIF\n",
       "0   stat_pay_sep  1.845663\n",
       "1   stat_pay_aug  3.132112\n",
       "2   stat_pay_jul  3.404884\n",
       "3   stat_pay_jun  4.084622\n",
       "4   stat_pay_may  4.816025\n",
       "5   stat_pay_apr  3.212958\n",
       "6  limit_balance  1.123589"
      ]
     },
     "execution_count": 80,
     "metadata": {},
     "output_type": "execute_result"
    }
   ],
   "source": [
    "#search for multicolinearity\n",
    "vif(df[['stat_pay_sep', 'stat_pay_aug', \n",
    "        'stat_pay_jul', 'stat_pay_jun',\n",
    "        'stat_pay_may', 'stat_pay_apr',\n",
    "        'limit_balance']])"
   ]
  },
  {
   "attachments": {},
   "cell_type": "markdown",
   "metadata": {},
   "source": [
    "since our data feature doesn't > 5 it's mean they don't have multicolinearity (same information)"
   ]
  },
  {
   "attachments": {},
   "cell_type": "markdown",
   "metadata": {},
   "source": [
    "### Look Cardinality"
   ]
  },
  {
   "cell_type": "code",
   "execution_count": 81,
   "metadata": {},
   "outputs": [
    {
     "name": "stdout",
     "output_type": "stream",
     "text": [
      "stat_pay_sep 11\n",
      "stat_pay_aug 10\n",
      "stat_pay_jul 9\n",
      "stat_pay_jun 10\n",
      "stat_pay_may 9\n",
      "stat_pay_apr 8\n"
     ]
    }
   ],
   "source": [
    "# show number of unique data on category features\n",
    "for i in df[['stat_pay_sep', 'stat_pay_aug', 'stat_pay_jul', 'stat_pay_jun', 'stat_pay_may', 'stat_pay_apr']]:\n",
    "    print(i,df[i].nunique())"
   ]
  },
  {
   "attachments": {},
   "cell_type": "markdown",
   "metadata": {},
   "source": [
    "wow, our feature on column stat_pay_sep, stat_pay_aug, stat_pay_jun have high cardinality. but before we handle this cardinality, let's find comparison they information with bill payment."
   ]
  },
  {
   "cell_type": "code",
   "execution_count": 82,
   "metadata": {},
   "outputs": [
    {
     "data": {
      "text/plain": [
       "stat_pay_sep  fault_payment\n",
       "-2.0          0                 213\n",
       "              1                  34\n",
       "-1.0          0                 474\n",
       "              1                  66\n",
       " 0.0          0                1319\n",
       "              1                 197\n",
       " 1.0          0                 245\n",
       "              1                 111\n",
       " 2.0          1                 193\n",
       "              0                  69\n",
       " 3.0          1                  26\n",
       "              0                   3\n",
       " 4.0          1                   4\n",
       "              0                   3\n",
       " 5.0          0                   2\n",
       " 6.0          0                   1\n",
       " 7.0          1                   2\n",
       " 8.0          1                   2\n",
       "              0                   1\n",
       "Name: fault_payment, dtype: int64"
      ]
     },
     "execution_count": 82,
     "metadata": {},
     "output_type": "execute_result"
    }
   ],
   "source": [
    "# search patern data from fault_payment vs stat_pay_sep\n",
    "df.groupby('stat_pay_sep')['fault_payment'].value_counts()"
   ]
  },
  {
   "cell_type": "code",
   "execution_count": 83,
   "metadata": {},
   "outputs": [
    {
     "data": {
      "text/plain": [
       "stat_pay_aug  fault_payment\n",
       "-2.0          0                 295\n",
       "              1                  58\n",
       "-1.0          0                 503\n",
       "              1                  77\n",
       " 0.0          0                1349\n",
       "              1                 258\n",
       " 1.0          0                   4\n",
       " 2.0          1                 213\n",
       "              0                 161\n",
       " 3.0          1                  22\n",
       "              0                  10\n",
       " 4.0          0                   5\n",
       "              1                   3\n",
       " 5.0          0                   2\n",
       " 6.0          1                   2\n",
       " 7.0          1                   2\n",
       "              0                   1\n",
       "Name: fault_payment, dtype: int64"
      ]
     },
     "execution_count": 83,
     "metadata": {},
     "output_type": "execute_result"
    }
   ],
   "source": [
    "# search patern data from fault_payment vs stat_pay_aug\n",
    "df.groupby('stat_pay_aug')['fault_payment'].value_counts()"
   ]
  },
  {
   "cell_type": "code",
   "execution_count": 84,
   "metadata": {},
   "outputs": [
    {
     "data": {
      "text/plain": [
       "stat_pay_jul  fault_payment\n",
       "-2.0          0                 306\n",
       "              1                  61\n",
       "-1.0          0                 498\n",
       "              1                  82\n",
       " 0.0          0                1345\n",
       "              1                 265\n",
       " 2.0          1                 201\n",
       "              0                 167\n",
       " 3.0          1                  13\n",
       "              0                   9\n",
       " 4.0          0                   4\n",
       "              1                   4\n",
       " 5.0          1                   3\n",
       " 6.0          1                   3\n",
       "              0                   1\n",
       " 7.0          1                   3\n",
       "Name: fault_payment, dtype: int64"
      ]
     },
     "execution_count": 84,
     "metadata": {},
     "output_type": "execute_result"
    }
   ],
   "source": [
    "# search patern data from fault_payment vs stat_pay_jul\n",
    "df.groupby('stat_pay_jul')['fault_payment'].value_counts()"
   ]
  },
  {
   "cell_type": "code",
   "execution_count": 85,
   "metadata": {},
   "outputs": [
    {
     "data": {
      "text/plain": [
       "stat_pay_jun  fault_payment\n",
       "-2.0          0                 340\n",
       "              1                  68\n",
       "-1.0          0                 454\n",
       "              1                  78\n",
       " 0.0          0                1380\n",
       "              1                 287\n",
       " 2.0          1                 178\n",
       "              0                 146\n",
       " 3.0          1                   9\n",
       "              0                   5\n",
       " 4.0          1                   6\n",
       "              0                   1\n",
       " 5.0          1                   3\n",
       "              0                   2\n",
       " 6.0          1                   1\n",
       " 7.0          1                   5\n",
       "              0                   1\n",
       " 8.0          0                   1\n",
       "Name: fault_payment, dtype: int64"
      ]
     },
     "execution_count": 85,
     "metadata": {},
     "output_type": "execute_result"
    }
   ],
   "source": [
    "# search patern data from fault_payment vs stat_pay_jun\n",
    "df.groupby('stat_pay_jun')['fault_payment'].value_counts()"
   ]
  },
  {
   "cell_type": "code",
   "execution_count": 86,
   "metadata": {},
   "outputs": [
    {
     "data": {
      "text/plain": [
       "stat_pay_may  fault_payment\n",
       "-2            0                 366\n",
       "              1                  75\n",
       "-1            0                 438\n",
       "              1                  66\n",
       " 0            0                1394\n",
       "              1                 308\n",
       " 2            1                 160\n",
       "              0                 120\n",
       " 3            1                  13\n",
       "              0                   6\n",
       " 4            1                   5\n",
       "              0                   4\n",
       " 5            1                   2\n",
       " 6            1                   1\n",
       " 7            1                   5\n",
       "              0                   2\n",
       "Name: fault_payment, dtype: int64"
      ]
     },
     "execution_count": 86,
     "metadata": {},
     "output_type": "execute_result"
    }
   ],
   "source": [
    "# search patern data from fault_payment vs stat_pay_may\n",
    "df.groupby('stat_pay_may')['fault_payment'].value_counts()"
   ]
  },
  {
   "cell_type": "code",
   "execution_count": 87,
   "metadata": {},
   "outputs": [
    {
     "data": {
      "text/plain": [
       "stat_pay_apr  fault_payment\n",
       "-2            0                 393\n",
       "              1                  77\n",
       "-1            0                 459\n",
       "              1                  81\n",
       " 0            0                1330\n",
       "              1                 296\n",
       " 2            1                 161\n",
       "              0                 136\n",
       " 3            1                  11\n",
       "              0                  10\n",
       " 4            1                   2\n",
       " 6            1                   2\n",
       "              0                   1\n",
       " 7            1                   5\n",
       "              0                   1\n",
       "Name: fault_payment, dtype: int64"
      ]
     },
     "execution_count": 87,
     "metadata": {},
     "output_type": "execute_result"
    }
   ],
   "source": [
    "# search patern data from fault_payment vs stat_pay_apr\n",
    "df.groupby('stat_pay_apr')['fault_payment'].value_counts()"
   ]
  },
  {
   "attachments": {},
   "cell_type": "markdown",
   "metadata": {},
   "source": [
    "as we can see, for each stat pay apr - sep have similiar patern of number client with stat pay category > 3 so we can group them as 1 group.\n",
    "\n",
    "for stat pay category from -2 till 0 have same meaning that is ontime payment, so we can group they too as 1 group."
   ]
  },
  {
   "cell_type": "code",
   "execution_count": 88,
   "metadata": {},
   "outputs": [
    {
     "name": "stdout",
     "output_type": "stream",
     "text": [
      "stat_pay_sep : 5\n",
      "stat_pay_aug : 5\n",
      "stat_pay_jul : 4\n",
      "stat_pay_jun : 4\n",
      "stat_pay_may : 4\n",
      "stat_pay_apr : 4\n"
     ]
    }
   ],
   "source": [
    "#replace 1\n",
    "df[['stat_pay_sep','stat_pay_aug', 'stat_pay_jul', 'stat_pay_jun',\n",
    "    'stat_pay_may', 'stat_pay_apr']] = df[['stat_pay_sep','stat_pay_aug', 'stat_pay_jul', 'stat_pay_jun',\n",
    "                                           'stat_pay_may', 'stat_pay_apr']].replace(to_replace=[-2, -1], value=0)\n",
    "\n",
    "#replace 2\n",
    "df[['stat_pay_sep','stat_pay_aug', 'stat_pay_jul', 'stat_pay_jun',\n",
    "    'stat_pay_may', 'stat_pay_apr']] = df[['stat_pay_sep','stat_pay_aug', 'stat_pay_jul', 'stat_pay_jun',\n",
    "                                           'stat_pay_may', 'stat_pay_apr']].replace(to_replace=[5, 6, 7, 8], value=4)\n",
    "\n",
    "# show cardinality after handling\n",
    "for a in df[['stat_pay_sep','stat_pay_aug', 'stat_pay_jul', 'stat_pay_jun', 'stat_pay_may', 'stat_pay_apr']] :\n",
    "        print(a, ':', df[a].nunique())"
   ]
  },
  {
   "attachments": {},
   "cell_type": "markdown",
   "metadata": {},
   "source": [
    "### Look Missing Values"
   ]
  },
  {
   "attachments": {},
   "cell_type": "markdown",
   "metadata": {},
   "source": [
    "as we know early our data doesn't have missing inputations, let's search more details here if our support data feature have other missing values."
   ]
  },
  {
   "cell_type": "code",
   "execution_count": 89,
   "metadata": {},
   "outputs": [
    {
     "name": "stdout",
     "output_type": "stream",
     "text": [
      "stat_pay_sep : [0. 2. 3. 4. 1.]\n",
      "stat_pay_aug : [0. 2. 3. 4. 1.]\n",
      "stat_pay_jul : [0. 2. 3. 4.]\n",
      "stat_pay_jun : [0. 2. 3. 4.]\n",
      "stat_pay_may : [0 2 3 4]\n",
      "stat_pay_apr : [0 2 3 4]\n",
      "limit_balance : [130000. 230000. 200000. 500000.  50000. 100000. 140000. 460000.  20000.\n",
      "  80000. 780000. 420000. 150000. 170000. 180000.  70000. 320000. 110000.\n",
      " 410000. 210000. 260000. 300000. 290000. 240000. 280000. 340000. 360000.\n",
      " 390000. 380000. 350000.  90000. 310000. 480000.  30000.  60000. 400000.\n",
      " 160000. 220000.  10000. 120000. 470000. 250000. 490000. 430000. 330000.\n",
      " 190000. 370000. 510000. 270000.  40000. 440000. 700000. 530000. 560000.\n",
      " 680000. 750000. 450000. 800000. 620000.]\n"
     ]
    }
   ],
   "source": [
    "for i in df[['stat_pay_sep', 'stat_pay_aug', 'stat_pay_jul', 'stat_pay_jun',\n",
    "            'stat_pay_may', 'stat_pay_apr', 'limit_balance']]:\n",
    "    print(i, ':',df[i].unique())"
   ]
  },
  {
   "attachments": {},
   "cell_type": "markdown",
   "metadata": {},
   "source": [
    "after searching more details for missing values in our features we don't found any missing values."
   ]
  },
  {
   "attachments": {},
   "cell_type": "markdown",
   "metadata": {},
   "source": [
    "### Look Duplicated Data"
   ]
  },
  {
   "cell_type": "code",
   "execution_count": 90,
   "metadata": {},
   "outputs": [
    {
     "data": {
      "text/plain": [
       "False    2964\n",
       "True        1\n",
       "dtype: int64"
      ]
     },
     "execution_count": 90,
     "metadata": {},
     "output_type": "execute_result"
    }
   ],
   "source": [
    "#count duplicated data\n",
    "df.duplicated().value_counts()"
   ]
  },
  {
   "attachments": {},
   "cell_type": "markdown",
   "metadata": {},
   "source": [
    "we found 1 duplicate data, let's se what that is that."
   ]
  },
  {
   "cell_type": "code",
   "execution_count": 91,
   "metadata": {},
   "outputs": [
    {
     "data": {
      "text/html": [
       "<div>\n",
       "<style scoped>\n",
       "    .dataframe tbody tr th:only-of-type {\n",
       "        vertical-align: middle;\n",
       "    }\n",
       "\n",
       "    .dataframe tbody tr th {\n",
       "        vertical-align: top;\n",
       "    }\n",
       "\n",
       "    .dataframe thead th {\n",
       "        text-align: right;\n",
       "    }\n",
       "</style>\n",
       "<table border=\"1\" class=\"dataframe\">\n",
       "  <thead>\n",
       "    <tr style=\"text-align: right;\">\n",
       "      <th></th>\n",
       "      <th>limit_balance</th>\n",
       "      <th>sex</th>\n",
       "      <th>education_level</th>\n",
       "      <th>marital_status</th>\n",
       "      <th>age</th>\n",
       "      <th>stat_pay_sep</th>\n",
       "      <th>stat_pay_aug</th>\n",
       "      <th>stat_pay_jul</th>\n",
       "      <th>stat_pay_jun</th>\n",
       "      <th>stat_pay_may</th>\n",
       "      <th>stat_pay_apr</th>\n",
       "      <th>bill_sep</th>\n",
       "      <th>bill_aug</th>\n",
       "      <th>bill_jul</th>\n",
       "      <th>bill_jun</th>\n",
       "      <th>bill_may</th>\n",
       "      <th>bill_apr</th>\n",
       "      <th>pay_sep</th>\n",
       "      <th>pay_aug</th>\n",
       "      <th>pay_jul</th>\n",
       "      <th>pay_jun</th>\n",
       "      <th>pay_may</th>\n",
       "      <th>pay_apr</th>\n",
       "      <th>fault_payment</th>\n",
       "    </tr>\n",
       "  </thead>\n",
       "  <tbody>\n",
       "    <tr>\n",
       "      <th>2366</th>\n",
       "      <td>200000.0</td>\n",
       "      <td>2</td>\n",
       "      <td>1</td>\n",
       "      <td>1</td>\n",
       "      <td>34.0</td>\n",
       "      <td>1.0</td>\n",
       "      <td>0.0</td>\n",
       "      <td>0.0</td>\n",
       "      <td>0.0</td>\n",
       "      <td>0</td>\n",
       "      <td>0</td>\n",
       "      <td>0.0</td>\n",
       "      <td>0.0</td>\n",
       "      <td>0.0</td>\n",
       "      <td>0.0</td>\n",
       "      <td>0.0</td>\n",
       "      <td>0.0</td>\n",
       "      <td>0.0</td>\n",
       "      <td>0.0</td>\n",
       "      <td>0.0</td>\n",
       "      <td>0.0</td>\n",
       "      <td>0.0</td>\n",
       "      <td>0.0</td>\n",
       "      <td>0</td>\n",
       "    </tr>\n",
       "    <tr>\n",
       "      <th>2381</th>\n",
       "      <td>200000.0</td>\n",
       "      <td>2</td>\n",
       "      <td>1</td>\n",
       "      <td>1</td>\n",
       "      <td>34.0</td>\n",
       "      <td>1.0</td>\n",
       "      <td>0.0</td>\n",
       "      <td>0.0</td>\n",
       "      <td>0.0</td>\n",
       "      <td>0</td>\n",
       "      <td>0</td>\n",
       "      <td>0.0</td>\n",
       "      <td>0.0</td>\n",
       "      <td>0.0</td>\n",
       "      <td>0.0</td>\n",
       "      <td>0.0</td>\n",
       "      <td>0.0</td>\n",
       "      <td>0.0</td>\n",
       "      <td>0.0</td>\n",
       "      <td>0.0</td>\n",
       "      <td>0.0</td>\n",
       "      <td>0.0</td>\n",
       "      <td>0.0</td>\n",
       "      <td>0</td>\n",
       "    </tr>\n",
       "  </tbody>\n",
       "</table>\n",
       "</div>"
      ],
      "text/plain": [
       "      limit_balance  sex  education_level  marital_status   age  stat_pay_sep  \\\n",
       "2366       200000.0    2                1               1  34.0           1.0   \n",
       "2381       200000.0    2                1               1  34.0           1.0   \n",
       "\n",
       "      stat_pay_aug  stat_pay_jul  stat_pay_jun  stat_pay_may  stat_pay_apr  \\\n",
       "2366           0.0           0.0           0.0             0             0   \n",
       "2381           0.0           0.0           0.0             0             0   \n",
       "\n",
       "      bill_sep  bill_aug  bill_jul  bill_jun  bill_may  bill_apr  pay_sep  \\\n",
       "2366       0.0       0.0       0.0       0.0       0.0       0.0      0.0   \n",
       "2381       0.0       0.0       0.0       0.0       0.0       0.0      0.0   \n",
       "\n",
       "      pay_aug  pay_jul  pay_jun  pay_may  pay_apr  fault_payment  \n",
       "2366      0.0      0.0      0.0      0.0      0.0              0  \n",
       "2381      0.0      0.0      0.0      0.0      0.0              0  "
      ]
     },
     "execution_count": 91,
     "metadata": {},
     "output_type": "execute_result"
    }
   ],
   "source": [
    "#show the duplicated data\n",
    "df[df.duplicated(keep=False)]"
   ]
  },
  {
   "attachments": {},
   "cell_type": "markdown",
   "metadata": {},
   "source": [
    "is this incidental or not ? we doesn't know that, so the better option is drop that duplicated data."
   ]
  },
  {
   "cell_type": "code",
   "execution_count": 92,
   "metadata": {},
   "outputs": [
    {
     "data": {
      "text/plain": [
       "(2965, 24)"
      ]
     },
     "execution_count": 92,
     "metadata": {},
     "output_type": "execute_result"
    }
   ],
   "source": [
    "#check data length before drop duplicate\n",
    "df.shape"
   ]
  },
  {
   "cell_type": "code",
   "execution_count": 93,
   "metadata": {},
   "outputs": [
    {
     "data": {
      "text/plain": [
       "(2964, 24)"
      ]
     },
     "execution_count": 93,
     "metadata": {},
     "output_type": "execute_result"
    }
   ],
   "source": [
    "#drop duplicated data\n",
    "df.drop_duplicates(inplace=True, ignore_index=True)\n",
    "df.shape"
   ]
  },
  {
   "attachments": {},
   "cell_type": "markdown",
   "metadata": {},
   "source": [
    "now our data is clean from duplicated."
   ]
  },
  {
   "attachments": {},
   "cell_type": "markdown",
   "metadata": {},
   "source": [
    "### Train-Test Split / Split Dataset"
   ]
  },
  {
   "cell_type": "code",
   "execution_count": 94,
   "metadata": {},
   "outputs": [],
   "source": [
    "# split data train and data test between features and target\n",
    "features = df.drop('fault_payment', axis=1)\n",
    "target = df['fault_payment']\n",
    "\n",
    "f_train, f_test, t_train, t_test = train_test_split(features, target, test_size=0.4, stratify=target, random_state=2895)"
   ]
  },
  {
   "attachments": {},
   "cell_type": "markdown",
   "metadata": {},
   "source": [
    "## Feature Engineering"
   ]
  },
  {
   "attachments": {},
   "cell_type": "markdown",
   "metadata": {},
   "source": [
    "### Look Outlier"
   ]
  },
  {
   "cell_type": "code",
   "execution_count": 95,
   "metadata": {},
   "outputs": [
    {
     "data": {
      "image/png": "[encoded data removed]",
      "text/plain": [
       "<Figure size 640x480 with 1 Axes>"
      ]
     },
     "metadata": {},
     "output_type": "display_data"
    }
   ],
   "source": [
    "# search outlier from our numberical features\n",
    "sns.boxplot(y='limit_balance',data=f_train)\n",
    "plt.title('Limit Balance');"
   ]
  },
  {
   "attachments": {},
   "cell_type": "markdown",
   "metadata": {},
   "source": [
    "as we can see that limit balance have outlier value and cause the distribution data of limit balance is right skew, so using IQR methode to calculate the outlier."
   ]
  },
  {
   "attachments": {},
   "cell_type": "markdown",
   "metadata": {},
   "source": [
    "### Handling Outlier"
   ]
  },
  {
   "cell_type": "code",
   "execution_count": 96,
   "metadata": {},
   "outputs": [],
   "source": [
    "# define a function for calculating lower and upper boundaries using IQR method\n",
    "def outlier(data, col, cons):\n",
    "    IQR = data[col].quantile(0.75) - data[col].quantile(0.25)\n",
    "    \n",
    "    lower_bound = data[col].quantile(0.25) - (IQR * cons)\n",
    "    upper_bound = data[col].quantile(0.75) + (IQR * cons)\n",
    "    \n",
    "    return lower_bound, upper_bound"
   ]
  },
  {
   "attachments": {},
   "cell_type": "markdown",
   "metadata": {},
   "source": [
    "we using constant 3 because distance distribution is skew and  skew level more then 1"
   ]
  },
  {
   "cell_type": "code",
   "execution_count": 97,
   "metadata": {},
   "outputs": [
    {
     "name": "stdout",
     "output_type": "stream",
     "text": [
      "lower boundary train limit balance :  -235000.0\n",
      "upper boundary train limit balance :  525000.0\n"
     ]
    }
   ],
   "source": [
    "# show lower and upper boundaries from column limit balance\n",
    "lower_bound_train, upper_bound_train = outlier(data=f_train, col='limit_balance', cons=1.5)\n",
    "print('lower boundary train limit balance : ', lower_bound_train)\n",
    "print('upper boundary train limit balance : ', upper_bound_train)"
   ]
  },
  {
   "attachments": {},
   "cell_type": "markdown",
   "metadata": {},
   "source": [
    "as we know that limit balance is never being a negative number so we will focus on upper boundary only"
   ]
  },
  {
   "cell_type": "code",
   "execution_count": 98,
   "metadata": {},
   "outputs": [
    {
     "name": "stdout",
     "output_type": "stream",
     "text": [
      "percentage f_train distance outlier : 0.44994375703037126 %\n"
     ]
    }
   ],
   "source": [
    "#show percentage of outlier on columns limit balance\n",
    "percentage_outlier_train = (f_train['limit_balance'][(f_train['limit_balance'] < lower_bound_train) | (f_train['limit_balance'] > upper_bound_train)].count())/(f_train['limit_balance'].count())*100\n",
    "print('percentage f_train distance outlier :', percentage_outlier_train, '%')"
   ]
  },
  {
   "attachments": {},
   "cell_type": "markdown",
   "metadata": {},
   "source": [
    "the presentation of outlier is 0.45%, it means our model is not will change even we handling this outlier. but for make sure the model we will create have best analysis, so we will handle this with capping methode (cause the data entry is few)"
   ]
  },
  {
   "cell_type": "code",
   "execution_count": 99,
   "metadata": {},
   "outputs": [],
   "source": [
    "# capping the data using iqr\n",
    "winsor = Winsorizer(capping_method='iqr',\n",
    "                    tail='right',\n",
    "                    fold=1.5,\n",
    "                    variables=['limit_balance'])\n",
    "\n",
    "f_train = winsor.fit_transform(f_train)"
   ]
  },
  {
   "cell_type": "code",
   "execution_count": 100,
   "metadata": {},
   "outputs": [
    {
     "name": "stdout",
     "output_type": "stream",
     "text": [
      "percentage limit balance outlier : 0.0 %\n"
     ]
    }
   ],
   "source": [
    "# cross check percentage outlier after capping\n",
    "percentage_outlier_train = (f_train['limit_balance'][(f_train['limit_balance'] < lower_bound_train) | (f_train['limit_balance'] > upper_bound_train)].count())/(f_train['limit_balance'].count())*100\n",
    "print('percentage limit balance outlier :', percentage_outlier_train,'%')"
   ]
  },
  {
   "attachments": {},
   "cell_type": "markdown",
   "metadata": {},
   "source": [
    "now our data already clean from outliers."
   ]
  },
  {
   "attachments": {},
   "cell_type": "markdown",
   "metadata": {},
   "source": [
    "### Feature Selection"
   ]
  },
  {
   "attachments": {},
   "cell_type": "markdown",
   "metadata": {},
   "source": [
    "from correlation exploratory & check multicolinearity we have features :\n",
    "1. stat_pay_sep\n",
    "2. stat_pay_aug\n",
    "3. stat_pay_jul\n",
    "4. stat_pay_jun\n",
    "5. stat_pay_may\n",
    "6. stat_pay_apr"
   ]
  },
  {
   "cell_type": "code",
   "execution_count": 101,
   "metadata": {},
   "outputs": [],
   "source": [
    "# select features and split to numerical and catergorical\n",
    "num_f = ['limit_balance']\n",
    "cat_f = ['stat_pay_sep', 'stat_pay_aug', 'stat_pay_jul', 'stat_pay_jun', 'stat_pay_may', 'stat_pay_apr']"
   ]
  },
  {
   "attachments": {},
   "cell_type": "markdown",
   "metadata": {},
   "source": [
    "### Feature Scaling"
   ]
  },
  {
   "cell_type": "code",
   "execution_count": 102,
   "metadata": {},
   "outputs": [],
   "source": [
    "# scaling feature\n",
    "scaler = MinMaxScaler()\n",
    "f_train_scaled = scaler.fit_transform(f_train[num_f])\n",
    "f_test_scaled = scaler.transform(f_test[num_f])"
   ]
  },
  {
   "attachments": {},
   "cell_type": "markdown",
   "metadata": {},
   "source": [
    "### Feature Encoding"
   ]
  },
  {
   "attachments": {},
   "cell_type": "markdown",
   "metadata": {},
   "source": [
    "because our categories data is encoded from dataset we got, so we doesn't need to encoding feature anymore."
   ]
  },
  {
   "attachments": {},
   "cell_type": "markdown",
   "metadata": {},
   "source": [
    "### Concat Feature Numberic and Categorial Columns"
   ]
  },
  {
   "cell_type": "code",
   "execution_count": 103,
   "metadata": {},
   "outputs": [],
   "source": [
    "# concat the scaled feature with categorical features\n",
    "f_train_fix = np.concatenate([f_train_scaled, f_train[cat_f]], axis=1)\n",
    "f_test_fix = np.concatenate([f_test_scaled, f_test[cat_f]], axis=1)"
   ]
  },
  {
   "attachments": {},
   "cell_type": "markdown",
   "metadata": {},
   "source": [
    "## Model Definition"
   ]
  },
  {
   "cell_type": "code",
   "execution_count": 104,
   "metadata": {},
   "outputs": [],
   "source": [
    "# define the models we using in train\n",
    "model = [LogisticRegression(),SVC(),KNeighborsClassifier(),GaussianNB(),DecisionTreeClassifier(),RandomForestClassifier(),AdaBoostClassifier()]"
   ]
  },
  {
   "cell_type": "code",
   "execution_count": 105,
   "metadata": {},
   "outputs": [
    {
     "name": "stdout",
     "output_type": "stream",
     "text": [
      "Model LogisticRegression()\n",
      "Recall - All - CrossVallidation :[0.02564103 0.         0.02631579 0.         0.         0.\n",
      " 0.         0.         0.02631579 0.02631579]\n",
      "Recall - Mean - CrossVallidation :0.010458839406207825\n",
      "Recall - Std - CrossVallidation :0.012810742779187643\n",
      "Recall - Range of Test-Set :-0.002351903372979818 - 0.023269582185395467\n",
      "\n",
      "Best Model : LogisticRegression()\n",
      "best_perform : 0.010458839406207825\n",
      "Model SVC()\n",
      "Recall - All - CrossVallidation :[0. 0. 0. 0. 0. 0. 0. 0. 0. 0.]\n",
      "Recall - Mean - CrossVallidation :0.0\n",
      "Recall - Std - CrossVallidation :0.0\n",
      "Recall - Range of Test-Set :0.0 - 0.0\n",
      "\n",
      "Best Model : LogisticRegression()\n",
      "best_perform : 0.010458839406207825\n",
      "Model KNeighborsClassifier()\n",
      "Recall - All - CrossVallidation :[0.15384615 0.21052632 0.21052632 0.07894737 0.13157895 0.13157895\n",
      " 0.13157895 0.05263158 0.13157895 0.18421053]\n",
      "Recall - Mean - CrossVallidation :0.14170040485829957\n",
      "Recall - Std - CrossVallidation :0.04869252161671462\n",
      "Recall - Range of Test-Set :0.09300788324158496 - 0.19039292647501418\n",
      "\n",
      "Best Model : KNeighborsClassifier()\n",
      "best_perform : 0.14170040485829957\n",
      "Model GaussianNB()\n",
      "Recall - All - CrossVallidation :[0.8974359  0.97368421 0.86842105 0.86842105 0.92105263 0.92105263\n",
      " 0.94736842 1.         0.92105263 0.92105263]\n",
      "Recall - Mean - CrossVallidation :0.9239541160593792\n",
      "Recall - Std - CrossVallidation :0.039634607445253614\n",
      "Recall - Range of Test-Set :0.8843195086141256 - 0.9635887235046328\n",
      "\n",
      "Best Model : GaussianNB()\n",
      "best_perform : 0.9239541160593792\n",
      "Model DecisionTreeClassifier()\n",
      "Recall - All - CrossVallidation :[0.41025641 0.44736842 0.26315789 0.47368421 0.28947368 0.5\n",
      " 0.36842105 0.44736842 0.47368421 0.5       ]\n",
      "Recall - Mean - CrossVallidation :0.4173414304993252\n",
      "Recall - Std - CrossVallidation :0.08023918020099365\n",
      "Recall - Range of Test-Set :0.3371022502983316 - 0.49758061070031884\n",
      "\n",
      "Best Model : GaussianNB()\n",
      "best_perform : 0.9239541160593792\n",
      "Model RandomForestClassifier()\n",
      "Recall - All - CrossVallidation :[0.38461538 0.28947368 0.26315789 0.28947368 0.28947368 0.47368421\n",
      " 0.34210526 0.36842105 0.44736842 0.42105263]\n",
      "Recall - Mean - CrossVallidation :0.3568825910931174\n",
      "Recall - Std - CrossVallidation :0.07034551304962866\n",
      "Recall - Range of Test-Set :0.2865370780434887 - 0.42722810414274603\n",
      "\n",
      "Best Model : GaussianNB()\n",
      "best_perform : 0.9239541160593792\n",
      "Model AdaBoostClassifier()\n",
      "Recall - All - CrossVallidation :[0.35897436 0.36842105 0.31578947 0.31578947 0.31578947 0.47368421\n",
      " 0.31578947 0.42105263 0.44736842 0.55263158]\n",
      "Recall - Mean - CrossVallidation :0.3885290148448043\n",
      "Recall - Std - CrossVallidation :0.07819392015109336\n",
      "Recall - Range of Test-Set :0.3103350946937109 - 0.4667229349958977\n",
      "\n",
      "Best Model : GaussianNB()\n",
      "best_perform : 0.9239541160593792\n"
     ]
    }
   ],
   "source": [
    "# look for best performance model\n",
    "best_model = []\n",
    "best_perform = 0\n",
    "\n",
    "for lop in model:\n",
    "    cv_score = cross_val_score(lop, f_train, t_train, cv=StratifiedKFold(n_splits=10, random_state=2895, shuffle=True), scoring='recall')\n",
    "    if cv_score.mean() > best_perform :\n",
    "        best_model = lop\n",
    "        best_perform = cv_score.mean()\n",
    "        \n",
    "    print(f'Model {lop}')\n",
    "    print(f'Recall - All - CrossVallidation :{cv_score}')\n",
    "    print(f'Recall - Mean - CrossVallidation :{cv_score.mean()}')\n",
    "    print(f'Recall - Std - CrossVallidation :{cv_score.std()}')\n",
    "    print(f'Recall - Range of Test-Set :{cv_score.mean()-cv_score.std()} - {cv_score.mean()+cv_score.std()}')\n",
    "    \n",
    "    print(f'\\nBest Model : {best_model}')\n",
    "    print(f'best_perform : {best_perform}')"
   ]
  },
  {
   "attachments": {},
   "cell_type": "markdown",
   "metadata": {},
   "source": [
    "from performance model test, we can use Naive Bayes (gaussianNB) as our best model."
   ]
  },
  {
   "cell_type": "code",
   "execution_count": 106,
   "metadata": {},
   "outputs": [],
   "source": [
    "# model selection\n",
    "model_NB = GaussianNB() "
   ]
  },
  {
   "attachments": {},
   "cell_type": "markdown",
   "metadata": {},
   "source": [
    "## Model Training"
   ]
  },
  {
   "attachments": {},
   "cell_type": "markdown",
   "metadata": {},
   "source": [
    "Default hyperparameter"
   ]
  },
  {
   "cell_type": "code",
   "execution_count": 107,
   "metadata": {},
   "outputs": [],
   "source": [
    "# Training model using default hyperparameter\n",
    "model_NB.fit(f_train_fix, t_train)\n",
    "h_train_pred = model_NB.predict(f_train_fix)\n",
    "h_test_pred = model_NB.predict(f_test_fix)"
   ]
  },
  {
   "attachments": {},
   "cell_type": "markdown",
   "metadata": {},
   "source": [
    "Hyperparameter Tunning"
   ]
  },
  {
   "cell_type": "code",
   "execution_count": 108,
   "metadata": {},
   "outputs": [
    {
     "data": {
      "text/plain": [
       "{'var_smoothing': array([1.00000000e+00, 4.21696503e-01, 1.77827941e-01, 7.49894209e-02,\n",
       "        3.16227766e-02, 1.33352143e-02, 5.62341325e-03, 2.37137371e-03,\n",
       "        1.00000000e-03, 4.21696503e-04, 1.77827941e-04, 7.49894209e-05,\n",
       "        3.16227766e-05, 1.33352143e-05, 5.62341325e-06, 2.37137371e-06,\n",
       "        1.00000000e-06, 4.21696503e-07, 1.77827941e-07, 7.49894209e-08,\n",
       "        3.16227766e-08, 1.33352143e-08, 5.62341325e-09, 2.37137371e-09,\n",
       "        1.00000000e-09])}"
      ]
     },
     "execution_count": 108,
     "metadata": {},
     "output_type": "execute_result"
    }
   ],
   "source": [
    "# Define Hyperparameter for GaussianNB model\n",
    "var_smoothing = {'var_smoothing': np.logspace(0,-9, num=25)}\n",
    "var_smoothing"
   ]
  },
  {
   "cell_type": "code",
   "execution_count": 109,
   "metadata": {},
   "outputs": [
    {
     "data": {
      "text/html": [
       "<style>#sk-container-id-2 {color: black;background-color: white;}#sk-container-id-2 pre{padding: 0;}#sk-container-id-2 div.sk-toggleable {background-color: white;}#sk-container-id-2 label.sk-toggleable__label {cursor: pointer;display: block;width: 100%;margin-bottom: 0;padding: 0.3em;box-sizing: border-box;text-align: center;}#sk-container-id-2 label.sk-toggleable__label-arrow:before {content: \"▸\";float: left;margin-right: 0.25em;color: #696969;}#sk-container-id-2 label.sk-toggleable__label-arrow:hover:before {color: black;}#sk-container-id-2 div.sk-estimator:hover label.sk-toggleable__label-arrow:before {color: black;}#sk-container-id-2 div.sk-toggleable__content {max-height: 0;max-width: 0;overflow: hidden;text-align: left;background-color: #f0f8ff;}#sk-container-id-2 div.sk-toggleable__content pre {margin: 0.2em;color: black;border-radius: 0.25em;background-color: #f0f8ff;}#sk-container-id-2 input.sk-toggleable__control:checked~div.sk-toggleable__content {max-height: 200px;max-width: 100%;overflow: auto;}#sk-container-id-2 input.sk-toggleable__control:checked~label.sk-toggleable__label-arrow:before {content: \"▾\";}#sk-container-id-2 div.sk-estimator input.sk-toggleable__control:checked~label.sk-toggleable__label {background-color: #d4ebff;}#sk-container-id-2 div.sk-label input.sk-toggleable__control:checked~label.sk-toggleable__label {background-color: #d4ebff;}#sk-container-id-2 input.sk-hidden--visually {border: 0;clip: rect(1px 1px 1px 1px);clip: rect(1px, 1px, 1px, 1px);height: 1px;margin: -1px;overflow: hidden;padding: 0;position: absolute;width: 1px;}#sk-container-id-2 div.sk-estimator {font-family: monospace;background-color: #f0f8ff;border: 1px dotted black;border-radius: 0.25em;box-sizing: border-box;margin-bottom: 0.5em;}#sk-container-id-2 div.sk-estimator:hover {background-color: #d4ebff;}#sk-container-id-2 div.sk-parallel-item::after {content: \"\";width: 100%;border-bottom: 1px solid gray;flex-grow: 1;}#sk-container-id-2 div.sk-label:hover label.sk-toggleable__label {background-color: #d4ebff;}#sk-container-id-2 div.sk-serial::before {content: \"\";position: absolute;border-left: 1px solid gray;box-sizing: border-box;top: 0;bottom: 0;left: 50%;z-index: 0;}#sk-container-id-2 div.sk-serial {display: flex;flex-direction: column;align-items: center;background-color: white;padding-right: 0.2em;padding-left: 0.2em;position: relative;}#sk-container-id-2 div.sk-item {position: relative;z-index: 1;}#sk-container-id-2 div.sk-parallel {display: flex;align-items: stretch;justify-content: center;background-color: white;position: relative;}#sk-container-id-2 div.sk-item::before, #sk-container-id-2 div.sk-parallel-item::before {content: \"\";position: absolute;border-left: 1px solid gray;box-sizing: border-box;top: 0;bottom: 0;left: 50%;z-index: -1;}#sk-container-id-2 div.sk-parallel-item {display: flex;flex-direction: column;z-index: 1;position: relative;background-color: white;}#sk-container-id-2 div.sk-parallel-item:first-child::after {align-self: flex-end;width: 50%;}#sk-container-id-2 div.sk-parallel-item:last-child::after {align-self: flex-start;width: 50%;}#sk-container-id-2 div.sk-parallel-item:only-child::after {width: 0;}#sk-container-id-2 div.sk-dashed-wrapped {border: 1px dashed gray;margin: 0 0.4em 0.5em 0.4em;box-sizing: border-box;padding-bottom: 0.4em;background-color: white;}#sk-container-id-2 div.sk-label label {font-family: monospace;font-weight: bold;display: inline-block;line-height: 1.2em;}#sk-container-id-2 div.sk-label-container {text-align: center;}#sk-container-id-2 div.sk-container {/* jupyter's `normalize.less` sets `[hidden] { display: none; }` but bootstrap.min.css set `[hidden] { display: none !important; }` so we also need the `!important` here to be able to override the default hidden behavior on the sphinx rendered scikit-learn.org. See: https://github.com/scikit-learn/scikit-learn/issues/21755 */display: inline-block !important;position: relative;}#sk-container-id-2 div.sk-text-repr-fallback {display: none;}</style><div id=\"sk-container-id-2\" class=\"sk-top-container\"><div class=\"sk-text-repr-fallback\"><pre>RandomizedSearchCV(cv=StratifiedKFold(n_splits=10, random_state=2895, shuffle=True),\n",
       "                   estimator=GaussianNB(), n_iter=25, n_jobs=-1,\n",
       "                   param_distributions={&#x27;var_smoothing&#x27;: array([1.00000000e+00, 4.21696503e-01, 1.77827941e-01, 7.49894209e-02,\n",
       "       3.16227766e-02, 1.33352143e-02, 5.62341325e-03, 2.37137371e-03,\n",
       "       1.00000000e-03, 4.21696503e-04, 1.77827941e-04, 7.49894209e-05,\n",
       "       3.16227766e-05, 1.33352143e-05, 5.62341325e-06, 2.37137371e-06,\n",
       "       1.00000000e-06, 4.21696503e-07, 1.77827941e-07, 7.49894209e-08,\n",
       "       3.16227766e-08, 1.33352143e-08, 5.62341325e-09, 2.37137371e-09,\n",
       "       1.00000000e-09])},\n",
       "                   random_state=2895, scoring=&#x27;recall&#x27;)</pre><b>In a Jupyter environment, please rerun this cell to show the HTML representation or trust the notebook. <br />On GitHub, the HTML representation is unable to render, please try loading this page with nbviewer.org.</b></div><div class=\"sk-container\" hidden><div class=\"sk-item sk-dashed-wrapped\"><div class=\"sk-label-container\"><div class=\"sk-label sk-toggleable\"><input class=\"sk-toggleable__control sk-hidden--visually\" id=\"sk-estimator-id-4\" type=\"checkbox\" ><label for=\"sk-estimator-id-4\" class=\"sk-toggleable__label sk-toggleable__label-arrow\">RandomizedSearchCV</label><div class=\"sk-toggleable__content\"><pre>RandomizedSearchCV(cv=StratifiedKFold(n_splits=10, random_state=2895, shuffle=True),\n",
       "                   estimator=GaussianNB(), n_iter=25, n_jobs=-1,\n",
       "                   param_distributions={&#x27;var_smoothing&#x27;: array([1.00000000e+00, 4.21696503e-01, 1.77827941e-01, 7.49894209e-02,\n",
       "       3.16227766e-02, 1.33352143e-02, 5.62341325e-03, 2.37137371e-03,\n",
       "       1.00000000e-03, 4.21696503e-04, 1.77827941e-04, 7.49894209e-05,\n",
       "       3.16227766e-05, 1.33352143e-05, 5.62341325e-06, 2.37137371e-06,\n",
       "       1.00000000e-06, 4.21696503e-07, 1.77827941e-07, 7.49894209e-08,\n",
       "       3.16227766e-08, 1.33352143e-08, 5.62341325e-09, 2.37137371e-09,\n",
       "       1.00000000e-09])},\n",
       "                   random_state=2895, scoring=&#x27;recall&#x27;)</pre></div></div></div><div class=\"sk-parallel\"><div class=\"sk-parallel-item\"><div class=\"sk-item\"><div class=\"sk-label-container\"><div class=\"sk-label sk-toggleable\"><input class=\"sk-toggleable__control sk-hidden--visually\" id=\"sk-estimator-id-5\" type=\"checkbox\" ><label for=\"sk-estimator-id-5\" class=\"sk-toggleable__label sk-toggleable__label-arrow\">estimator: GaussianNB</label><div class=\"sk-toggleable__content\"><pre>GaussianNB()</pre></div></div></div><div class=\"sk-serial\"><div class=\"sk-item\"><div class=\"sk-estimator sk-toggleable\"><input class=\"sk-toggleable__control sk-hidden--visually\" id=\"sk-estimator-id-6\" type=\"checkbox\" ><label for=\"sk-estimator-id-6\" class=\"sk-toggleable__label sk-toggleable__label-arrow\">GaussianNB</label><div class=\"sk-toggleable__content\"><pre>GaussianNB()</pre></div></div></div></div></div></div></div></div></div></div>"
      ],
      "text/plain": [
       "RandomizedSearchCV(cv=StratifiedKFold(n_splits=10, random_state=2895, shuffle=True),\n",
       "                   estimator=GaussianNB(), n_iter=25, n_jobs=-1,\n",
       "                   param_distributions={'var_smoothing': array([1.00000000e+00, 4.21696503e-01, 1.77827941e-01, 7.49894209e-02,\n",
       "       3.16227766e-02, 1.33352143e-02, 5.62341325e-03, 2.37137371e-03,\n",
       "       1.00000000e-03, 4.21696503e-04, 1.77827941e-04, 7.49894209e-05,\n",
       "       3.16227766e-05, 1.33352143e-05, 5.62341325e-06, 2.37137371e-06,\n",
       "       1.00000000e-06, 4.21696503e-07, 1.77827941e-07, 7.49894209e-08,\n",
       "       3.16227766e-08, 1.33352143e-08, 5.62341325e-09, 2.37137371e-09,\n",
       "       1.00000000e-09])},\n",
       "                   random_state=2895, scoring='recall')"
      ]
     },
     "execution_count": 109,
     "metadata": {},
     "output_type": "execute_result"
    }
   ],
   "source": [
    "# tunning hyperparameter using Random Search\n",
    "rs_tunning = RandomizedSearchCV(estimator=model_NB,\n",
    "                                param_distributions=var_smoothing,\n",
    "                                n_iter=25,\n",
    "                                cv=StratifiedKFold(n_splits=10, random_state=2895, shuffle=True),\n",
    "                                n_jobs=-1,\n",
    "                                scoring='recall',\n",
    "                                random_state=2895)\n",
    "rs_tunning.fit(f_train_fix, t_train)"
   ]
  },
  {
   "cell_type": "code",
   "execution_count": 110,
   "metadata": {},
   "outputs": [
    {
     "data": {
      "text/plain": [
       "{'var_smoothing': 0.005623413251903491}"
      ]
     },
     "execution_count": 110,
     "metadata": {},
     "output_type": "execute_result"
    }
   ],
   "source": [
    "# get Best Hyperparameter\n",
    "rs_tunning.best_params_"
   ]
  },
  {
   "attachments": {},
   "cell_type": "markdown",
   "metadata": {},
   "source": [
    "from randomsearch tunning, we found best hyperparameter for var_smoothing on 0.005"
   ]
  },
  {
   "cell_type": "code",
   "execution_count": 111,
   "metadata": {},
   "outputs": [],
   "source": [
    "# get best estimator\n",
    "rs_tunning_best = rs_tunning.best_estimator_"
   ]
  },
  {
   "cell_type": "code",
   "execution_count": 112,
   "metadata": {},
   "outputs": [],
   "source": [
    "# predict with best tunning hyperparameters\n",
    "h_train_pred_tun = rs_tunning_best.predict(f_train_fix)\n",
    "h_test_pred_tun = rs_tunning_best.predict(f_test_fix)"
   ]
  },
  {
   "attachments": {},
   "cell_type": "markdown",
   "metadata": {},
   "source": [
    "## Model Evaluation"
   ]
  },
  {
   "attachments": {},
   "cell_type": "markdown",
   "metadata": {},
   "source": [
    "Comparison of default and tunning hyperparameter"
   ]
  },
  {
   "cell_type": "code",
   "execution_count": 113,
   "metadata": {},
   "outputs": [
    {
     "name": "stdout",
     "output_type": "stream",
     "text": [
      "========== Default Hyperparameter (Train) ==========\n",
      "              precision    recall  f1-score   support\n",
      "\n",
      "           0       0.87      0.88      0.88      1397\n",
      "           1       0.55      0.53      0.54       381\n",
      "\n",
      "    accuracy                           0.80      1778\n",
      "   macro avg       0.71      0.71      0.71      1778\n",
      "weighted avg       0.80      0.80      0.80      1778\n",
      "\n",
      "========== Tunning Hyperparameter (Train) ==========\n",
      "              precision    recall  f1-score   support\n",
      "\n",
      "           0       0.87      0.88      0.88      1397\n",
      "           1       0.55      0.53      0.54       381\n",
      "\n",
      "    accuracy                           0.81      1778\n",
      "   macro avg       0.71      0.71      0.71      1778\n",
      "weighted avg       0.80      0.81      0.80      1778\n",
      "\n",
      "========== Default Hyperparameter (Test) ==========\n",
      "              precision    recall  f1-score   support\n",
      "\n",
      "           0       0.88      0.87      0.87       932\n",
      "           1       0.54      0.56      0.55       254\n",
      "\n",
      "    accuracy                           0.80      1186\n",
      "   macro avg       0.71      0.71      0.71      1186\n",
      "weighted avg       0.81      0.80      0.80      1186\n",
      "\n",
      "========== Tunning Hyperparameter (Test) ==========\n",
      "              precision    recall  f1-score   support\n",
      "\n",
      "           0       0.88      0.87      0.87       932\n",
      "           1       0.53      0.56      0.55       254\n",
      "\n",
      "    accuracy                           0.80      1186\n",
      "   macro avg       0.71      0.71      0.71      1186\n",
      "weighted avg       0.80      0.80      0.80      1186\n",
      "\n"
     ]
    }
   ],
   "source": [
    "# show classification report of default hyperparameter vs tunning hyperparameter on data train\n",
    "print('='*10,'Default Hyperparameter (Train)','='*10)\n",
    "print(classification_report(t_train, h_train_pred))\n",
    "print('='*10,'Tunning Hyperparameter (Train)','='*10)\n",
    "print(classification_report(t_train, h_train_pred_tun))\n",
    "\n",
    "# show classification report of default hyperparameter vs tunning hyperparameter on data test\n",
    "print('='*10,'Default Hyperparameter (Test)','='*10)\n",
    "print(classification_report(t_test, h_test_pred))\n",
    "print('='*10,'Tunning Hyperparameter (Test)','='*10)\n",
    "print(classification_report(t_test, h_test_pred_tun))"
   ]
  },
  {
   "attachments": {},
   "cell_type": "markdown",
   "metadata": {},
   "source": [
    "based on classification report, as we can see that recall 1 on tunning hyperparameter is same with default hyperparameter."
   ]
  },
  {
   "cell_type": "code",
   "execution_count": 114,
   "metadata": {},
   "outputs": [
    {
     "data": {
      "image/png": "[encoded data removed]",
      "text/plain": [
       "<Figure size 1000x1000 with 8 Axes>"
      ]
     },
     "metadata": {},
     "output_type": "display_data"
    }
   ],
   "source": [
    "#show confusion matrix from predict train defaults hyperparameter vs tunning hyperparameter\n",
    "cm_train = confusion_matrix(t_train, h_train_pred, labels=model_NB.classes_)\n",
    "cm_train_tun = confusion_matrix(t_train, h_train_pred_tun, labels=model_NB.classes_)\n",
    "cm_test = confusion_matrix(t_test, h_test_pred, labels=model_NB.classes_)\n",
    "cm_test_tun = confusion_matrix(t_test, h_test_pred_tun, labels=model_NB.classes_)\n",
    "disp_test = ConfusionMatrixDisplay(confusion_matrix=cm_test,display_labels=model_NB.classes_)\n",
    "disp_test_tun = ConfusionMatrixDisplay(confusion_matrix=cm_test_tun,display_labels=model_NB.classes_)\n",
    "disp_train = ConfusionMatrixDisplay(confusion_matrix=cm_train,display_labels=model_NB.classes_)\n",
    "disp_train_tun = ConfusionMatrixDisplay(confusion_matrix=cm_train_tun,display_labels=model_NB.classes_)\n",
    "\n",
    "fig, axes = plt.subplots(2,2, figsize=(10,10))\n",
    "disp_train.plot(ax=axes[0,0])\n",
    "axes[0,0].set_title('Default Hyperparameter (Train)')\n",
    "disp_test.plot(ax=axes[0,1])\n",
    "axes[0,1].set_title('Default Hyperparameter (Test)')\n",
    "disp_train_tun.plot(ax=axes[1,0])\n",
    "axes[1,0].set_title('Tunning Hyperparameter (Train)')\n",
    "disp_test_tun.plot(ax=axes[1,1])\n",
    "axes[1,1].set_title('Tunning Hyperparameter (Test)')\n",
    "plt.show()"
   ]
  },
  {
   "attachments": {},
   "cell_type": "markdown",
   "metadata": {},
   "source": [
    "based on coffusion matrix our False negative on test data in increase by 1 after we tunning. so the best model we will get is with default hyperparameter."
   ]
  },
  {
   "attachments": {},
   "cell_type": "markdown",
   "metadata": {},
   "source": [
    "## Model Saving"
   ]
  },
  {
   "cell_type": "code",
   "execution_count": 115,
   "metadata": {},
   "outputs": [],
   "source": [
    "# saving model\n",
    "with open('scaler.pkl', 'wb') as file_1:\n",
    "  joblib.dump(scaler, file_1)\n",
    "  \n",
    "with open('model.pkl', 'wb') as file_2:\n",
    "  joblib.dump(rs_tunning_best, file_2)\n",
    "  \n",
    "with open('num_col.pkl', 'wb') as file_3:\n",
    "  joblib.dump(num_f, file_3)\n",
    "  \n",
    "with open('cat_col.pkl', 'wb') as file_4:\n",
    "  joblib.dump(cat_f, file_4)"
   ]
  }
 ],
 "metadata": {
  "kernelspec": {
   "display_name": "Python 3",
   "language": "python",
   "name": "python3"
  },
  "language_info": {
   "codemirror_mode": {
    "name": "ipython",
    "version": 3
   },
   "file_extension": ".py",
   "mimetype": "text/x-python",
   "name": "python",
   "nbconvert_exporter": "python",
   "pygments_lexer": "ipython3",
   "version": "3.11.0"
  },
  "orig_nbformat": 4,
  "vscode": {
   "interpreter": {
    "hash": "5f80c455da1dc101d9f66a16923589bd6dbb3429340af280f1efed2f72025e97"
   }
  }
 },
 "nbformat": 4,
 "nbformat_minor": 2
}
